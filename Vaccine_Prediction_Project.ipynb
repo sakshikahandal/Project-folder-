{
  "cells": [
    {
      "cell_type": "markdown",
      "metadata": {
        "id": "view-in-github",
        "colab_type": "text"
      },
      "source": [
        "<a href=\"https://colab.research.google.com/github/sakshikahandal/Project-folder-/blob/main/Vaccine_Prediction_Project.ipynb\" target=\"_parent\"><img src=\"https://colab.research.google.com/assets/colab-badge.svg\" alt=\"Open In Colab\"/></a>"
      ]
    },
    {
      "cell_type": "code",
      "execution_count": null,
      "id": "eda3ac51",
      "metadata": {
        "id": "eda3ac51"
      },
      "outputs": [],
      "source": [
        "import pandas as pd\n",
        "import numpy as np\n",
        "import seaborn as sns\n",
        "import matplotlib.pyplot as plt\n",
        "import warnings\n",
        "warnings.filterwarnings('ignore')"
      ]
    },
    {
      "cell_type": "code",
      "execution_count": null,
      "id": "3c9b04bf",
      "metadata": {
        "id": "3c9b04bf"
      },
      "outputs": [],
      "source": [
        "df=pd.read_csv(\"h1n1_vaccine_prediction.csv\")"
      ]
    },
    {
      "cell_type": "code",
      "execution_count": null,
      "id": "fac9253c",
      "metadata": {
        "scrolled": true,
        "id": "fac9253c",
        "outputId": "5de8b34a-db93-4037-a434-326f6d37296c"
      },
      "outputs": [
        {
          "data": {
            "text/html": [
              "<div>\n",
              "<style scoped>\n",
              "    .dataframe tbody tr th:only-of-type {\n",
              "        vertical-align: middle;\n",
              "    }\n",
              "\n",
              "    .dataframe tbody tr th {\n",
              "        vertical-align: top;\n",
              "    }\n",
              "\n",
              "    .dataframe thead th {\n",
              "        text-align: right;\n",
              "    }\n",
              "</style>\n",
              "<table border=\"1\" class=\"dataframe\">\n",
              "  <thead>\n",
              "    <tr style=\"text-align: right;\">\n",
              "      <th></th>\n",
              "      <th>unique_id</th>\n",
              "      <th>h1n1_worry</th>\n",
              "      <th>h1n1_awareness</th>\n",
              "      <th>antiviral_medication</th>\n",
              "      <th>contact_avoidance</th>\n",
              "      <th>bought_face_mask</th>\n",
              "      <th>wash_hands_frequently</th>\n",
              "      <th>avoid_large_gatherings</th>\n",
              "      <th>reduced_outside_home_cont</th>\n",
              "      <th>avoid_touch_face</th>\n",
              "      <th>...</th>\n",
              "      <th>race</th>\n",
              "      <th>sex</th>\n",
              "      <th>income_level</th>\n",
              "      <th>marital_status</th>\n",
              "      <th>housing_status</th>\n",
              "      <th>employment</th>\n",
              "      <th>census_msa</th>\n",
              "      <th>no_of_adults</th>\n",
              "      <th>no_of_children</th>\n",
              "      <th>h1n1_vaccine</th>\n",
              "    </tr>\n",
              "  </thead>\n",
              "  <tbody>\n",
              "    <tr>\n",
              "      <th>0</th>\n",
              "      <td>0</td>\n",
              "      <td>1.0</td>\n",
              "      <td>0.0</td>\n",
              "      <td>0.0</td>\n",
              "      <td>0.0</td>\n",
              "      <td>0.0</td>\n",
              "      <td>0.0</td>\n",
              "      <td>0.0</td>\n",
              "      <td>1.0</td>\n",
              "      <td>1.0</td>\n",
              "      <td>...</td>\n",
              "      <td>White</td>\n",
              "      <td>Female</td>\n",
              "      <td>Below Poverty</td>\n",
              "      <td>Not Married</td>\n",
              "      <td>Own</td>\n",
              "      <td>Not in Labor Force</td>\n",
              "      <td>Non-MSA</td>\n",
              "      <td>0.0</td>\n",
              "      <td>0.0</td>\n",
              "      <td>0</td>\n",
              "    </tr>\n",
              "    <tr>\n",
              "      <th>1</th>\n",
              "      <td>1</td>\n",
              "      <td>3.0</td>\n",
              "      <td>2.0</td>\n",
              "      <td>0.0</td>\n",
              "      <td>1.0</td>\n",
              "      <td>0.0</td>\n",
              "      <td>1.0</td>\n",
              "      <td>0.0</td>\n",
              "      <td>1.0</td>\n",
              "      <td>1.0</td>\n",
              "      <td>...</td>\n",
              "      <td>White</td>\n",
              "      <td>Male</td>\n",
              "      <td>Below Poverty</td>\n",
              "      <td>Not Married</td>\n",
              "      <td>Rent</td>\n",
              "      <td>Employed</td>\n",
              "      <td>MSA, Not Principle  City</td>\n",
              "      <td>0.0</td>\n",
              "      <td>0.0</td>\n",
              "      <td>0</td>\n",
              "    </tr>\n",
              "    <tr>\n",
              "      <th>2</th>\n",
              "      <td>2</td>\n",
              "      <td>1.0</td>\n",
              "      <td>1.0</td>\n",
              "      <td>0.0</td>\n",
              "      <td>1.0</td>\n",
              "      <td>0.0</td>\n",
              "      <td>0.0</td>\n",
              "      <td>0.0</td>\n",
              "      <td>0.0</td>\n",
              "      <td>0.0</td>\n",
              "      <td>...</td>\n",
              "      <td>White</td>\n",
              "      <td>Male</td>\n",
              "      <td>&lt;= $75,000, Above Poverty</td>\n",
              "      <td>Not Married</td>\n",
              "      <td>Own</td>\n",
              "      <td>Employed</td>\n",
              "      <td>MSA, Not Principle  City</td>\n",
              "      <td>2.0</td>\n",
              "      <td>0.0</td>\n",
              "      <td>0</td>\n",
              "    </tr>\n",
              "    <tr>\n",
              "      <th>3</th>\n",
              "      <td>3</td>\n",
              "      <td>1.0</td>\n",
              "      <td>1.0</td>\n",
              "      <td>0.0</td>\n",
              "      <td>1.0</td>\n",
              "      <td>0.0</td>\n",
              "      <td>1.0</td>\n",
              "      <td>1.0</td>\n",
              "      <td>0.0</td>\n",
              "      <td>0.0</td>\n",
              "      <td>...</td>\n",
              "      <td>White</td>\n",
              "      <td>Female</td>\n",
              "      <td>Below Poverty</td>\n",
              "      <td>Not Married</td>\n",
              "      <td>Rent</td>\n",
              "      <td>Not in Labor Force</td>\n",
              "      <td>MSA, Principle City</td>\n",
              "      <td>0.0</td>\n",
              "      <td>0.0</td>\n",
              "      <td>0</td>\n",
              "    </tr>\n",
              "    <tr>\n",
              "      <th>4</th>\n",
              "      <td>4</td>\n",
              "      <td>2.0</td>\n",
              "      <td>1.0</td>\n",
              "      <td>0.0</td>\n",
              "      <td>1.0</td>\n",
              "      <td>0.0</td>\n",
              "      <td>1.0</td>\n",
              "      <td>1.0</td>\n",
              "      <td>0.0</td>\n",
              "      <td>1.0</td>\n",
              "      <td>...</td>\n",
              "      <td>White</td>\n",
              "      <td>Female</td>\n",
              "      <td>&lt;= $75,000, Above Poverty</td>\n",
              "      <td>Married</td>\n",
              "      <td>Own</td>\n",
              "      <td>Employed</td>\n",
              "      <td>MSA, Not Principle  City</td>\n",
              "      <td>1.0</td>\n",
              "      <td>0.0</td>\n",
              "      <td>0</td>\n",
              "    </tr>\n",
              "  </tbody>\n",
              "</table>\n",
              "<p>5 rows × 34 columns</p>\n",
              "</div>"
            ],
            "text/plain": [
              "   unique_id  h1n1_worry  h1n1_awareness  antiviral_medication  \\\n",
              "0          0         1.0             0.0                   0.0   \n",
              "1          1         3.0             2.0                   0.0   \n",
              "2          2         1.0             1.0                   0.0   \n",
              "3          3         1.0             1.0                   0.0   \n",
              "4          4         2.0             1.0                   0.0   \n",
              "\n",
              "   contact_avoidance  bought_face_mask  wash_hands_frequently  \\\n",
              "0                0.0               0.0                    0.0   \n",
              "1                1.0               0.0                    1.0   \n",
              "2                1.0               0.0                    0.0   \n",
              "3                1.0               0.0                    1.0   \n",
              "4                1.0               0.0                    1.0   \n",
              "\n",
              "   avoid_large_gatherings  reduced_outside_home_cont  avoid_touch_face  ...  \\\n",
              "0                     0.0                        1.0               1.0  ...   \n",
              "1                     0.0                        1.0               1.0  ...   \n",
              "2                     0.0                        0.0               0.0  ...   \n",
              "3                     1.0                        0.0               0.0  ...   \n",
              "4                     1.0                        0.0               1.0  ...   \n",
              "\n",
              "    race     sex               income_level  marital_status  housing_status  \\\n",
              "0  White  Female              Below Poverty     Not Married             Own   \n",
              "1  White    Male              Below Poverty     Not Married            Rent   \n",
              "2  White    Male  <= $75,000, Above Poverty     Not Married             Own   \n",
              "3  White  Female              Below Poverty     Not Married            Rent   \n",
              "4  White  Female  <= $75,000, Above Poverty         Married             Own   \n",
              "\n",
              "           employment                census_msa  no_of_adults  no_of_children  \\\n",
              "0  Not in Labor Force                   Non-MSA           0.0             0.0   \n",
              "1            Employed  MSA, Not Principle  City           0.0             0.0   \n",
              "2            Employed  MSA, Not Principle  City           2.0             0.0   \n",
              "3  Not in Labor Force       MSA, Principle City           0.0             0.0   \n",
              "4            Employed  MSA, Not Principle  City           1.0             0.0   \n",
              "\n",
              "   h1n1_vaccine  \n",
              "0             0  \n",
              "1             0  \n",
              "2             0  \n",
              "3             0  \n",
              "4             0  \n",
              "\n",
              "[5 rows x 34 columns]"
            ]
          },
          "execution_count": 3,
          "metadata": {},
          "output_type": "execute_result"
        }
      ],
      "source": [
        "df.head()"
      ]
    },
    {
      "cell_type": "code",
      "execution_count": null,
      "id": "65d1071e",
      "metadata": {
        "id": "65d1071e",
        "outputId": "e6d511da-e34f-481f-a31a-d1dd3be072a1"
      },
      "outputs": [
        {
          "data": {
            "text/plain": [
              "(26707, 34)"
            ]
          },
          "execution_count": 4,
          "metadata": {},
          "output_type": "execute_result"
        }
      ],
      "source": [
        "df.shape"
      ]
    },
    {
      "cell_type": "code",
      "execution_count": null,
      "id": "fc3cb851",
      "metadata": {
        "scrolled": true,
        "id": "fc3cb851",
        "outputId": "86307a3b-ac33-44fa-b2ee-9812f9456c04"
      },
      "outputs": [
        {
          "data": {
            "text/plain": [
              "unique_id                     0.000000\n",
              "h1n1_worry                    0.344479\n",
              "h1n1_awareness                0.434343\n",
              "antiviral_medication          0.265848\n",
              "contact_avoidance             0.778822\n",
              "bought_face_mask              0.071142\n",
              "wash_hands_frequently         0.157262\n",
              "avoid_large_gatherings        0.325757\n",
              "reduced_outside_home_cont     0.307036\n",
              "avoid_touch_face              0.479275\n",
              "dr_recc_h1n1_vacc             8.087767\n",
              "dr_recc_seasonal_vacc         8.087767\n",
              "chronic_medic_condition       3.635751\n",
              "cont_child_undr_6_mnths       3.070356\n",
              "is_health_worker              3.010447\n",
              "has_health_insur             45.957989\n",
              "is_h1n1_vacc_effective        1.464036\n",
              "is_h1n1_risky                 1.452803\n",
              "sick_from_h1n1_vacc           1.479013\n",
              "is_seas_vacc_effective        1.729884\n",
              "is_seas_risky                 1.924589\n",
              "sick_from_seas_vacc           2.010709\n",
              "age_bracket                   0.000000\n",
              "qualification                 5.268282\n",
              "race                          0.000000\n",
              "sex                           0.000000\n",
              "income_level                 16.561201\n",
              "marital_status                5.272026\n",
              "housing_status                7.645936\n",
              "employment                    5.477965\n",
              "census_msa                    0.000000\n",
              "no_of_adults                  0.932340\n",
              "no_of_children                0.932340\n",
              "h1n1_vaccine                  0.000000\n",
              "dtype: float64"
            ]
          },
          "execution_count": 5,
          "metadata": {},
          "output_type": "execute_result"
        }
      ],
      "source": [
        "df.isnull().sum()*100/len(df)"
      ]
    },
    {
      "cell_type": "markdown",
      "id": "cedf6f58",
      "metadata": {
        "id": "cedf6f58"
      },
      "source": [
        "### if null values are greater than 5% than remove those columns"
      ]
    },
    {
      "cell_type": "code",
      "execution_count": null,
      "id": "21041ee1",
      "metadata": {
        "id": "21041ee1"
      },
      "outputs": [],
      "source": [
        "for i in df:\n",
        "    if (df[i].isnull().sum()>1500):\n",
        "        df.drop(i,axis=1,inplace=True)\n",
        "    else:\n",
        "        df[i]"
      ]
    },
    {
      "cell_type": "code",
      "execution_count": null,
      "id": "f47cb204",
      "metadata": {
        "id": "f47cb204",
        "outputId": "80414391-2226-40a2-b2ab-abca593b5c37"
      },
      "outputs": [
        {
          "data": {
            "text/plain": [
              "unique_id                    0.000000\n",
              "h1n1_worry                   0.344479\n",
              "h1n1_awareness               0.434343\n",
              "antiviral_medication         0.265848\n",
              "contact_avoidance            0.778822\n",
              "bought_face_mask             0.071142\n",
              "wash_hands_frequently        0.157262\n",
              "avoid_large_gatherings       0.325757\n",
              "reduced_outside_home_cont    0.307036\n",
              "avoid_touch_face             0.479275\n",
              "chronic_medic_condition      3.635751\n",
              "cont_child_undr_6_mnths      3.070356\n",
              "is_health_worker             3.010447\n",
              "is_h1n1_vacc_effective       1.464036\n",
              "is_h1n1_risky                1.452803\n",
              "sick_from_h1n1_vacc          1.479013\n",
              "is_seas_vacc_effective       1.729884\n",
              "is_seas_risky                1.924589\n",
              "sick_from_seas_vacc          2.010709\n",
              "age_bracket                  0.000000\n",
              "qualification                5.268282\n",
              "race                         0.000000\n",
              "sex                          0.000000\n",
              "marital_status               5.272026\n",
              "employment                   5.477965\n",
              "census_msa                   0.000000\n",
              "no_of_adults                 0.932340\n",
              "no_of_children               0.932340\n",
              "h1n1_vaccine                 0.000000\n",
              "dtype: float64"
            ]
          },
          "execution_count": 7,
          "metadata": {},
          "output_type": "execute_result"
        }
      ],
      "source": [
        "df.isnull().sum()*100/len(df)"
      ]
    },
    {
      "cell_type": "code",
      "execution_count": null,
      "id": "29324d28",
      "metadata": {
        "id": "29324d28"
      },
      "outputs": [],
      "source": [
        "df.drop([\"unique_id\"],axis=1,inplace=True)"
      ]
    },
    {
      "cell_type": "code",
      "execution_count": null,
      "id": "05f6528e",
      "metadata": {
        "id": "05f6528e",
        "outputId": "f21e2178-2753-413c-b206-68ae63297bfc"
      },
      "outputs": [
        {
          "data": {
            "text/plain": [
              "h1n1_worry                   0.344479\n",
              "h1n1_awareness               0.434343\n",
              "antiviral_medication         0.265848\n",
              "contact_avoidance            0.778822\n",
              "bought_face_mask             0.071142\n",
              "wash_hands_frequently        0.157262\n",
              "avoid_large_gatherings       0.325757\n",
              "reduced_outside_home_cont    0.307036\n",
              "avoid_touch_face             0.479275\n",
              "chronic_medic_condition      3.635751\n",
              "cont_child_undr_6_mnths      3.070356\n",
              "is_health_worker             3.010447\n",
              "is_h1n1_vacc_effective       1.464036\n",
              "is_h1n1_risky                1.452803\n",
              "sick_from_h1n1_vacc          1.479013\n",
              "is_seas_vacc_effective       1.729884\n",
              "is_seas_risky                1.924589\n",
              "sick_from_seas_vacc          2.010709\n",
              "age_bracket                  0.000000\n",
              "qualification                5.268282\n",
              "race                         0.000000\n",
              "sex                          0.000000\n",
              "marital_status               5.272026\n",
              "employment                   5.477965\n",
              "census_msa                   0.000000\n",
              "no_of_adults                 0.932340\n",
              "no_of_children               0.932340\n",
              "h1n1_vaccine                 0.000000\n",
              "dtype: float64"
            ]
          },
          "execution_count": 9,
          "metadata": {},
          "output_type": "execute_result"
        }
      ],
      "source": [
        "df.isnull().sum()*100/len(df)"
      ]
    },
    {
      "cell_type": "code",
      "execution_count": null,
      "id": "4535e330",
      "metadata": {
        "id": "4535e330",
        "outputId": "74b6306c-aac2-46b8-a82b-595636720548"
      },
      "outputs": [
        {
          "name": "stdout",
          "output_type": "stream",
          "text": [
            "<class 'pandas.core.frame.DataFrame'>\n",
            "RangeIndex: 26707 entries, 0 to 26706\n",
            "Data columns (total 28 columns):\n",
            " #   Column                     Non-Null Count  Dtype  \n",
            "---  ------                     --------------  -----  \n",
            " 0   h1n1_worry                 26615 non-null  float64\n",
            " 1   h1n1_awareness             26591 non-null  float64\n",
            " 2   antiviral_medication       26636 non-null  float64\n",
            " 3   contact_avoidance          26499 non-null  float64\n",
            " 4   bought_face_mask           26688 non-null  float64\n",
            " 5   wash_hands_frequently      26665 non-null  float64\n",
            " 6   avoid_large_gatherings     26620 non-null  float64\n",
            " 7   reduced_outside_home_cont  26625 non-null  float64\n",
            " 8   avoid_touch_face           26579 non-null  float64\n",
            " 9   chronic_medic_condition    25736 non-null  float64\n",
            " 10  cont_child_undr_6_mnths    25887 non-null  float64\n",
            " 11  is_health_worker           25903 non-null  float64\n",
            " 12  is_h1n1_vacc_effective     26316 non-null  float64\n",
            " 13  is_h1n1_risky              26319 non-null  float64\n",
            " 14  sick_from_h1n1_vacc        26312 non-null  float64\n",
            " 15  is_seas_vacc_effective     26245 non-null  float64\n",
            " 16  is_seas_risky              26193 non-null  float64\n",
            " 17  sick_from_seas_vacc        26170 non-null  float64\n",
            " 18  age_bracket                26707 non-null  object \n",
            " 19  qualification              25300 non-null  object \n",
            " 20  race                       26707 non-null  object \n",
            " 21  sex                        26707 non-null  object \n",
            " 22  marital_status             25299 non-null  object \n",
            " 23  employment                 25244 non-null  object \n",
            " 24  census_msa                 26707 non-null  object \n",
            " 25  no_of_adults               26458 non-null  float64\n",
            " 26  no_of_children             26458 non-null  float64\n",
            " 27  h1n1_vaccine               26707 non-null  int64  \n",
            "dtypes: float64(20), int64(1), object(7)\n",
            "memory usage: 5.7+ MB\n"
          ]
        }
      ],
      "source": [
        "df.info()"
      ]
    },
    {
      "cell_type": "code",
      "execution_count": null,
      "id": "9a458a4f",
      "metadata": {
        "id": "9a458a4f",
        "outputId": "93f0a7e3-7f2e-42d9-c354-3208fb219bc3"
      },
      "outputs": [
        {
          "data": {
            "text/plain": [
              "array(['55 - 64 Years', '35 - 44 Years', '18 - 34 Years', '65+ Years',\n",
              "       '45 - 54 Years'], dtype=object)"
            ]
          },
          "execution_count": 11,
          "metadata": {},
          "output_type": "execute_result"
        }
      ],
      "source": [
        "df[\"age_bracket\"].unique()"
      ]
    },
    {
      "cell_type": "code",
      "execution_count": null,
      "id": "89e147c0",
      "metadata": {
        "id": "89e147c0"
      },
      "outputs": [],
      "source": []
    },
    {
      "cell_type": "code",
      "execution_count": null,
      "id": "ae61aa28",
      "metadata": {
        "id": "ae61aa28",
        "outputId": "c9e31074-dec8-44f9-ed92-70d6ddaa976e"
      },
      "outputs": [
        {
          "data": {
            "text/plain": [
              "array(['< 12 Years', '12 Years', 'College Graduate', 'Some College', nan],\n",
              "      dtype=object)"
            ]
          },
          "execution_count": 12,
          "metadata": {},
          "output_type": "execute_result"
        }
      ],
      "source": [
        "df[\"qualification\"].unique()"
      ]
    },
    {
      "cell_type": "code",
      "execution_count": null,
      "id": "efa8bb46",
      "metadata": {
        "scrolled": true,
        "id": "efa8bb46",
        "outputId": "445fb83f-b716-4768-d402-88edd2b66978"
      },
      "outputs": [
        {
          "data": {
            "text/plain": [
              "array(['White', 'Black', 'Other or Multiple', 'Hispanic'], dtype=object)"
            ]
          },
          "execution_count": 13,
          "metadata": {},
          "output_type": "execute_result"
        }
      ],
      "source": [
        "df[\"race\"].unique()"
      ]
    },
    {
      "cell_type": "code",
      "execution_count": null,
      "id": "6728e92a",
      "metadata": {
        "id": "6728e92a"
      },
      "outputs": [],
      "source": [
        "df[\"race\"].replace([\"Other or Multiple\",\"Hispanic\"],\"others\",inplace=True)"
      ]
    },
    {
      "cell_type": "code",
      "execution_count": null,
      "id": "8cb2b315",
      "metadata": {
        "id": "8cb2b315",
        "outputId": "9962c032-928f-4974-af44-6730baf3fe7c"
      },
      "outputs": [
        {
          "data": {
            "text/plain": [
              "array(['White', 'Black', 'others'], dtype=object)"
            ]
          },
          "execution_count": 15,
          "metadata": {},
          "output_type": "execute_result"
        }
      ],
      "source": [
        "df[\"race\"].unique()"
      ]
    },
    {
      "cell_type": "code",
      "execution_count": null,
      "id": "a19f4212",
      "metadata": {
        "scrolled": true,
        "id": "a19f4212",
        "outputId": "79e2c239-c5e7-46c1-a900-d97377db5f0e"
      },
      "outputs": [
        {
          "data": {
            "text/plain": [
              "array(['Female', 'Male'], dtype=object)"
            ]
          },
          "execution_count": 16,
          "metadata": {},
          "output_type": "execute_result"
        }
      ],
      "source": [
        "df[\"sex\"].unique()"
      ]
    },
    {
      "cell_type": "code",
      "execution_count": null,
      "id": "344c37cb",
      "metadata": {
        "id": "344c37cb",
        "outputId": "69758917-6315-4c1a-ee0c-90ac50e10471"
      },
      "outputs": [
        {
          "data": {
            "text/plain": [
              "array(['Not Married', 'Married', nan], dtype=object)"
            ]
          },
          "execution_count": 17,
          "metadata": {},
          "output_type": "execute_result"
        }
      ],
      "source": [
        "df[\"marital_status\"].unique()"
      ]
    },
    {
      "cell_type": "code",
      "execution_count": null,
      "id": "148c6719",
      "metadata": {
        "scrolled": true,
        "id": "148c6719",
        "outputId": "29164699-3c68-4232-f619-10ffcd655a85"
      },
      "outputs": [
        {
          "data": {
            "text/plain": [
              "array(['Not in Labor Force', 'Employed', 'Unemployed', nan], dtype=object)"
            ]
          },
          "execution_count": 18,
          "metadata": {},
          "output_type": "execute_result"
        }
      ],
      "source": [
        "df[\"employment\"].unique()"
      ]
    },
    {
      "cell_type": "code",
      "execution_count": null,
      "id": "f2e5f988",
      "metadata": {
        "id": "f2e5f988",
        "outputId": "55f43b1d-7164-4757-a254-48b50df97ddb"
      },
      "outputs": [
        {
          "data": {
            "text/plain": [
              "array(['Non-MSA', 'MSA, Not Principle  City', 'MSA, Principle City'],\n",
              "      dtype=object)"
            ]
          },
          "execution_count": 19,
          "metadata": {},
          "output_type": "execute_result"
        }
      ],
      "source": [
        "df[\"census_msa\"].unique()"
      ]
    },
    {
      "cell_type": "code",
      "execution_count": null,
      "id": "caaa52d8",
      "metadata": {
        "id": "caaa52d8",
        "outputId": "d777956c-c8cb-4861-8c3d-63e7996525a6"
      },
      "outputs": [
        {
          "data": {
            "text/html": [
              "<div>\n",
              "<style scoped>\n",
              "    .dataframe tbody tr th:only-of-type {\n",
              "        vertical-align: middle;\n",
              "    }\n",
              "\n",
              "    .dataframe tbody tr th {\n",
              "        vertical-align: top;\n",
              "    }\n",
              "\n",
              "    .dataframe thead th {\n",
              "        text-align: right;\n",
              "    }\n",
              "</style>\n",
              "<table border=\"1\" class=\"dataframe\">\n",
              "  <thead>\n",
              "    <tr style=\"text-align: right;\">\n",
              "      <th></th>\n",
              "      <th>h1n1_worry</th>\n",
              "      <th>h1n1_awareness</th>\n",
              "      <th>antiviral_medication</th>\n",
              "      <th>contact_avoidance</th>\n",
              "      <th>bought_face_mask</th>\n",
              "      <th>wash_hands_frequently</th>\n",
              "      <th>avoid_large_gatherings</th>\n",
              "      <th>reduced_outside_home_cont</th>\n",
              "      <th>avoid_touch_face</th>\n",
              "      <th>chronic_medic_condition</th>\n",
              "      <th>...</th>\n",
              "      <th>age_bracket</th>\n",
              "      <th>qualification</th>\n",
              "      <th>race</th>\n",
              "      <th>sex</th>\n",
              "      <th>marital_status</th>\n",
              "      <th>employment</th>\n",
              "      <th>census_msa</th>\n",
              "      <th>no_of_adults</th>\n",
              "      <th>no_of_children</th>\n",
              "      <th>h1n1_vaccine</th>\n",
              "    </tr>\n",
              "  </thead>\n",
              "  <tbody>\n",
              "    <tr>\n",
              "      <th>0</th>\n",
              "      <td>1.0</td>\n",
              "      <td>0.0</td>\n",
              "      <td>0.0</td>\n",
              "      <td>0.0</td>\n",
              "      <td>0.0</td>\n",
              "      <td>0.0</td>\n",
              "      <td>0.0</td>\n",
              "      <td>1.0</td>\n",
              "      <td>1.0</td>\n",
              "      <td>0.0</td>\n",
              "      <td>...</td>\n",
              "      <td>55 - 64 Years</td>\n",
              "      <td>&lt; 12 Years</td>\n",
              "      <td>White</td>\n",
              "      <td>Female</td>\n",
              "      <td>Not Married</td>\n",
              "      <td>Not in Labor Force</td>\n",
              "      <td>Non-MSA</td>\n",
              "      <td>0.0</td>\n",
              "      <td>0.0</td>\n",
              "      <td>0</td>\n",
              "    </tr>\n",
              "    <tr>\n",
              "      <th>1</th>\n",
              "      <td>3.0</td>\n",
              "      <td>2.0</td>\n",
              "      <td>0.0</td>\n",
              "      <td>1.0</td>\n",
              "      <td>0.0</td>\n",
              "      <td>1.0</td>\n",
              "      <td>0.0</td>\n",
              "      <td>1.0</td>\n",
              "      <td>1.0</td>\n",
              "      <td>0.0</td>\n",
              "      <td>...</td>\n",
              "      <td>35 - 44 Years</td>\n",
              "      <td>12 Years</td>\n",
              "      <td>White</td>\n",
              "      <td>Male</td>\n",
              "      <td>Not Married</td>\n",
              "      <td>Employed</td>\n",
              "      <td>MSA, Not Principle  City</td>\n",
              "      <td>0.0</td>\n",
              "      <td>0.0</td>\n",
              "      <td>0</td>\n",
              "    </tr>\n",
              "    <tr>\n",
              "      <th>2</th>\n",
              "      <td>1.0</td>\n",
              "      <td>1.0</td>\n",
              "      <td>0.0</td>\n",
              "      <td>1.0</td>\n",
              "      <td>0.0</td>\n",
              "      <td>0.0</td>\n",
              "      <td>0.0</td>\n",
              "      <td>0.0</td>\n",
              "      <td>0.0</td>\n",
              "      <td>1.0</td>\n",
              "      <td>...</td>\n",
              "      <td>18 - 34 Years</td>\n",
              "      <td>College Graduate</td>\n",
              "      <td>White</td>\n",
              "      <td>Male</td>\n",
              "      <td>Not Married</td>\n",
              "      <td>Employed</td>\n",
              "      <td>MSA, Not Principle  City</td>\n",
              "      <td>2.0</td>\n",
              "      <td>0.0</td>\n",
              "      <td>0</td>\n",
              "    </tr>\n",
              "    <tr>\n",
              "      <th>3</th>\n",
              "      <td>1.0</td>\n",
              "      <td>1.0</td>\n",
              "      <td>0.0</td>\n",
              "      <td>1.0</td>\n",
              "      <td>0.0</td>\n",
              "      <td>1.0</td>\n",
              "      <td>1.0</td>\n",
              "      <td>0.0</td>\n",
              "      <td>0.0</td>\n",
              "      <td>1.0</td>\n",
              "      <td>...</td>\n",
              "      <td>65+ Years</td>\n",
              "      <td>12 Years</td>\n",
              "      <td>White</td>\n",
              "      <td>Female</td>\n",
              "      <td>Not Married</td>\n",
              "      <td>Not in Labor Force</td>\n",
              "      <td>MSA, Principle City</td>\n",
              "      <td>0.0</td>\n",
              "      <td>0.0</td>\n",
              "      <td>0</td>\n",
              "    </tr>\n",
              "    <tr>\n",
              "      <th>4</th>\n",
              "      <td>2.0</td>\n",
              "      <td>1.0</td>\n",
              "      <td>0.0</td>\n",
              "      <td>1.0</td>\n",
              "      <td>0.0</td>\n",
              "      <td>1.0</td>\n",
              "      <td>1.0</td>\n",
              "      <td>0.0</td>\n",
              "      <td>1.0</td>\n",
              "      <td>0.0</td>\n",
              "      <td>...</td>\n",
              "      <td>45 - 54 Years</td>\n",
              "      <td>Some College</td>\n",
              "      <td>White</td>\n",
              "      <td>Female</td>\n",
              "      <td>Married</td>\n",
              "      <td>Employed</td>\n",
              "      <td>MSA, Not Principle  City</td>\n",
              "      <td>1.0</td>\n",
              "      <td>0.0</td>\n",
              "      <td>0</td>\n",
              "    </tr>\n",
              "  </tbody>\n",
              "</table>\n",
              "<p>5 rows × 28 columns</p>\n",
              "</div>"
            ],
            "text/plain": [
              "   h1n1_worry  h1n1_awareness  antiviral_medication  contact_avoidance  \\\n",
              "0         1.0             0.0                   0.0                0.0   \n",
              "1         3.0             2.0                   0.0                1.0   \n",
              "2         1.0             1.0                   0.0                1.0   \n",
              "3         1.0             1.0                   0.0                1.0   \n",
              "4         2.0             1.0                   0.0                1.0   \n",
              "\n",
              "   bought_face_mask  wash_hands_frequently  avoid_large_gatherings  \\\n",
              "0               0.0                    0.0                     0.0   \n",
              "1               0.0                    1.0                     0.0   \n",
              "2               0.0                    0.0                     0.0   \n",
              "3               0.0                    1.0                     1.0   \n",
              "4               0.0                    1.0                     1.0   \n",
              "\n",
              "   reduced_outside_home_cont  avoid_touch_face  chronic_medic_condition  ...  \\\n",
              "0                        1.0               1.0                      0.0  ...   \n",
              "1                        1.0               1.0                      0.0  ...   \n",
              "2                        0.0               0.0                      1.0  ...   \n",
              "3                        0.0               0.0                      1.0  ...   \n",
              "4                        0.0               1.0                      0.0  ...   \n",
              "\n",
              "     age_bracket     qualification   race     sex  marital_status  \\\n",
              "0  55 - 64 Years        < 12 Years  White  Female     Not Married   \n",
              "1  35 - 44 Years          12 Years  White    Male     Not Married   \n",
              "2  18 - 34 Years  College Graduate  White    Male     Not Married   \n",
              "3      65+ Years          12 Years  White  Female     Not Married   \n",
              "4  45 - 54 Years      Some College  White  Female         Married   \n",
              "\n",
              "           employment                census_msa  no_of_adults no_of_children  \\\n",
              "0  Not in Labor Force                   Non-MSA           0.0            0.0   \n",
              "1            Employed  MSA, Not Principle  City           0.0            0.0   \n",
              "2            Employed  MSA, Not Principle  City           2.0            0.0   \n",
              "3  Not in Labor Force       MSA, Principle City           0.0            0.0   \n",
              "4            Employed  MSA, Not Principle  City           1.0            0.0   \n",
              "\n",
              "  h1n1_vaccine  \n",
              "0            0  \n",
              "1            0  \n",
              "2            0  \n",
              "3            0  \n",
              "4            0  \n",
              "\n",
              "[5 rows x 28 columns]"
            ]
          },
          "execution_count": 20,
          "metadata": {},
          "output_type": "execute_result"
        }
      ],
      "source": [
        "df.head()"
      ]
    },
    {
      "cell_type": "code",
      "execution_count": null,
      "id": "bbeb8336",
      "metadata": {
        "scrolled": false,
        "id": "bbeb8336",
        "outputId": "a102d591-9c64-4765-e7d8-991adee07ec5"
      },
      "outputs": [
        {
          "data": {
            "text/plain": [
              "h1n1_worry                     92\n",
              "h1n1_awareness                116\n",
              "antiviral_medication           71\n",
              "contact_avoidance             208\n",
              "bought_face_mask               19\n",
              "wash_hands_frequently          42\n",
              "avoid_large_gatherings         87\n",
              "reduced_outside_home_cont      82\n",
              "avoid_touch_face              128\n",
              "chronic_medic_condition       971\n",
              "cont_child_undr_6_mnths       820\n",
              "is_health_worker              804\n",
              "is_h1n1_vacc_effective        391\n",
              "is_h1n1_risky                 388\n",
              "sick_from_h1n1_vacc           395\n",
              "is_seas_vacc_effective        462\n",
              "is_seas_risky                 514\n",
              "sick_from_seas_vacc           537\n",
              "age_bracket                     0\n",
              "qualification                1407\n",
              "race                            0\n",
              "sex                             0\n",
              "marital_status               1408\n",
              "employment                   1463\n",
              "census_msa                      0\n",
              "no_of_adults                  249\n",
              "no_of_children                249\n",
              "h1n1_vaccine                    0\n",
              "dtype: int64"
            ]
          },
          "execution_count": 21,
          "metadata": {},
          "output_type": "execute_result"
        }
      ],
      "source": [
        "df.isnull().sum()"
      ]
    },
    {
      "cell_type": "code",
      "execution_count": null,
      "id": "e3620042",
      "metadata": {
        "id": "e3620042",
        "outputId": "ce330cd6-7c56-4026-e5f4-7dfd2cc49071"
      },
      "outputs": [
        {
          "name": "stdout",
          "output_type": "stream",
          "text": [
            "<class 'pandas.core.frame.DataFrame'>\n",
            "RangeIndex: 26707 entries, 0 to 26706\n",
            "Data columns (total 28 columns):\n",
            " #   Column                     Non-Null Count  Dtype  \n",
            "---  ------                     --------------  -----  \n",
            " 0   h1n1_worry                 26615 non-null  float64\n",
            " 1   h1n1_awareness             26591 non-null  float64\n",
            " 2   antiviral_medication       26636 non-null  float64\n",
            " 3   contact_avoidance          26499 non-null  float64\n",
            " 4   bought_face_mask           26688 non-null  float64\n",
            " 5   wash_hands_frequently      26665 non-null  float64\n",
            " 6   avoid_large_gatherings     26620 non-null  float64\n",
            " 7   reduced_outside_home_cont  26625 non-null  float64\n",
            " 8   avoid_touch_face           26579 non-null  float64\n",
            " 9   chronic_medic_condition    25736 non-null  float64\n",
            " 10  cont_child_undr_6_mnths    25887 non-null  float64\n",
            " 11  is_health_worker           25903 non-null  float64\n",
            " 12  is_h1n1_vacc_effective     26316 non-null  float64\n",
            " 13  is_h1n1_risky              26319 non-null  float64\n",
            " 14  sick_from_h1n1_vacc        26312 non-null  float64\n",
            " 15  is_seas_vacc_effective     26245 non-null  float64\n",
            " 16  is_seas_risky              26193 non-null  float64\n",
            " 17  sick_from_seas_vacc        26170 non-null  float64\n",
            " 18  age_bracket                26707 non-null  object \n",
            " 19  qualification              25300 non-null  object \n",
            " 20  race                       26707 non-null  object \n",
            " 21  sex                        26707 non-null  object \n",
            " 22  marital_status             25299 non-null  object \n",
            " 23  employment                 25244 non-null  object \n",
            " 24  census_msa                 26707 non-null  object \n",
            " 25  no_of_adults               26458 non-null  float64\n",
            " 26  no_of_children             26458 non-null  float64\n",
            " 27  h1n1_vaccine               26707 non-null  int64  \n",
            "dtypes: float64(20), int64(1), object(7)\n",
            "memory usage: 5.7+ MB\n"
          ]
        }
      ],
      "source": [
        "df.info()"
      ]
    },
    {
      "cell_type": "code",
      "execution_count": null,
      "id": "e2a59a60",
      "metadata": {
        "scrolled": true,
        "id": "e2a59a60"
      },
      "outputs": [],
      "source": [
        "float_columns=df.select_dtypes(\"float\")"
      ]
    },
    {
      "cell_type": "code",
      "execution_count": null,
      "id": "7223d85b",
      "metadata": {
        "scrolled": true,
        "id": "7223d85b",
        "outputId": "9b80ffdd-a854-4aca-c041-75426d4f1c97"
      },
      "outputs": [
        {
          "data": {
            "text/html": [
              "<div>\n",
              "<style scoped>\n",
              "    .dataframe tbody tr th:only-of-type {\n",
              "        vertical-align: middle;\n",
              "    }\n",
              "\n",
              "    .dataframe tbody tr th {\n",
              "        vertical-align: top;\n",
              "    }\n",
              "\n",
              "    .dataframe thead th {\n",
              "        text-align: right;\n",
              "    }\n",
              "</style>\n",
              "<table border=\"1\" class=\"dataframe\">\n",
              "  <thead>\n",
              "    <tr style=\"text-align: right;\">\n",
              "      <th></th>\n",
              "      <th>h1n1_worry</th>\n",
              "      <th>h1n1_awareness</th>\n",
              "      <th>antiviral_medication</th>\n",
              "      <th>contact_avoidance</th>\n",
              "      <th>bought_face_mask</th>\n",
              "      <th>wash_hands_frequently</th>\n",
              "      <th>avoid_large_gatherings</th>\n",
              "      <th>reduced_outside_home_cont</th>\n",
              "      <th>avoid_touch_face</th>\n",
              "      <th>chronic_medic_condition</th>\n",
              "      <th>cont_child_undr_6_mnths</th>\n",
              "      <th>is_health_worker</th>\n",
              "      <th>is_h1n1_vacc_effective</th>\n",
              "      <th>is_h1n1_risky</th>\n",
              "      <th>sick_from_h1n1_vacc</th>\n",
              "      <th>is_seas_vacc_effective</th>\n",
              "      <th>is_seas_risky</th>\n",
              "      <th>sick_from_seas_vacc</th>\n",
              "      <th>no_of_adults</th>\n",
              "      <th>no_of_children</th>\n",
              "    </tr>\n",
              "  </thead>\n",
              "  <tbody>\n",
              "    <tr>\n",
              "      <th>0</th>\n",
              "      <td>1.0</td>\n",
              "      <td>0.0</td>\n",
              "      <td>0.0</td>\n",
              "      <td>0.0</td>\n",
              "      <td>0.0</td>\n",
              "      <td>0.0</td>\n",
              "      <td>0.0</td>\n",
              "      <td>1.0</td>\n",
              "      <td>1.0</td>\n",
              "      <td>0.0</td>\n",
              "      <td>0.0</td>\n",
              "      <td>0.0</td>\n",
              "      <td>3.0</td>\n",
              "      <td>1.0</td>\n",
              "      <td>2.0</td>\n",
              "      <td>2.0</td>\n",
              "      <td>1.0</td>\n",
              "      <td>2.0</td>\n",
              "      <td>0.0</td>\n",
              "      <td>0.0</td>\n",
              "    </tr>\n",
              "    <tr>\n",
              "      <th>1</th>\n",
              "      <td>3.0</td>\n",
              "      <td>2.0</td>\n",
              "      <td>0.0</td>\n",
              "      <td>1.0</td>\n",
              "      <td>0.0</td>\n",
              "      <td>1.0</td>\n",
              "      <td>0.0</td>\n",
              "      <td>1.0</td>\n",
              "      <td>1.0</td>\n",
              "      <td>0.0</td>\n",
              "      <td>0.0</td>\n",
              "      <td>0.0</td>\n",
              "      <td>5.0</td>\n",
              "      <td>4.0</td>\n",
              "      <td>4.0</td>\n",
              "      <td>4.0</td>\n",
              "      <td>2.0</td>\n",
              "      <td>4.0</td>\n",
              "      <td>0.0</td>\n",
              "      <td>0.0</td>\n",
              "    </tr>\n",
              "    <tr>\n",
              "      <th>2</th>\n",
              "      <td>1.0</td>\n",
              "      <td>1.0</td>\n",
              "      <td>0.0</td>\n",
              "      <td>1.0</td>\n",
              "      <td>0.0</td>\n",
              "      <td>0.0</td>\n",
              "      <td>0.0</td>\n",
              "      <td>0.0</td>\n",
              "      <td>0.0</td>\n",
              "      <td>1.0</td>\n",
              "      <td>0.0</td>\n",
              "      <td>0.0</td>\n",
              "      <td>3.0</td>\n",
              "      <td>1.0</td>\n",
              "      <td>1.0</td>\n",
              "      <td>4.0</td>\n",
              "      <td>1.0</td>\n",
              "      <td>2.0</td>\n",
              "      <td>2.0</td>\n",
              "      <td>0.0</td>\n",
              "    </tr>\n",
              "    <tr>\n",
              "      <th>3</th>\n",
              "      <td>1.0</td>\n",
              "      <td>1.0</td>\n",
              "      <td>0.0</td>\n",
              "      <td>1.0</td>\n",
              "      <td>0.0</td>\n",
              "      <td>1.0</td>\n",
              "      <td>1.0</td>\n",
              "      <td>0.0</td>\n",
              "      <td>0.0</td>\n",
              "      <td>1.0</td>\n",
              "      <td>0.0</td>\n",
              "      <td>0.0</td>\n",
              "      <td>3.0</td>\n",
              "      <td>3.0</td>\n",
              "      <td>5.0</td>\n",
              "      <td>5.0</td>\n",
              "      <td>4.0</td>\n",
              "      <td>1.0</td>\n",
              "      <td>0.0</td>\n",
              "      <td>0.0</td>\n",
              "    </tr>\n",
              "    <tr>\n",
              "      <th>4</th>\n",
              "      <td>2.0</td>\n",
              "      <td>1.0</td>\n",
              "      <td>0.0</td>\n",
              "      <td>1.0</td>\n",
              "      <td>0.0</td>\n",
              "      <td>1.0</td>\n",
              "      <td>1.0</td>\n",
              "      <td>0.0</td>\n",
              "      <td>1.0</td>\n",
              "      <td>0.0</td>\n",
              "      <td>0.0</td>\n",
              "      <td>0.0</td>\n",
              "      <td>3.0</td>\n",
              "      <td>3.0</td>\n",
              "      <td>2.0</td>\n",
              "      <td>3.0</td>\n",
              "      <td>1.0</td>\n",
              "      <td>4.0</td>\n",
              "      <td>1.0</td>\n",
              "      <td>0.0</td>\n",
              "    </tr>\n",
              "  </tbody>\n",
              "</table>\n",
              "</div>"
            ],
            "text/plain": [
              "   h1n1_worry  h1n1_awareness  antiviral_medication  contact_avoidance  \\\n",
              "0         1.0             0.0                   0.0                0.0   \n",
              "1         3.0             2.0                   0.0                1.0   \n",
              "2         1.0             1.0                   0.0                1.0   \n",
              "3         1.0             1.0                   0.0                1.0   \n",
              "4         2.0             1.0                   0.0                1.0   \n",
              "\n",
              "   bought_face_mask  wash_hands_frequently  avoid_large_gatherings  \\\n",
              "0               0.0                    0.0                     0.0   \n",
              "1               0.0                    1.0                     0.0   \n",
              "2               0.0                    0.0                     0.0   \n",
              "3               0.0                    1.0                     1.0   \n",
              "4               0.0                    1.0                     1.0   \n",
              "\n",
              "   reduced_outside_home_cont  avoid_touch_face  chronic_medic_condition  \\\n",
              "0                        1.0               1.0                      0.0   \n",
              "1                        1.0               1.0                      0.0   \n",
              "2                        0.0               0.0                      1.0   \n",
              "3                        0.0               0.0                      1.0   \n",
              "4                        0.0               1.0                      0.0   \n",
              "\n",
              "   cont_child_undr_6_mnths  is_health_worker  is_h1n1_vacc_effective  \\\n",
              "0                      0.0               0.0                     3.0   \n",
              "1                      0.0               0.0                     5.0   \n",
              "2                      0.0               0.0                     3.0   \n",
              "3                      0.0               0.0                     3.0   \n",
              "4                      0.0               0.0                     3.0   \n",
              "\n",
              "   is_h1n1_risky  sick_from_h1n1_vacc  is_seas_vacc_effective  is_seas_risky  \\\n",
              "0            1.0                  2.0                     2.0            1.0   \n",
              "1            4.0                  4.0                     4.0            2.0   \n",
              "2            1.0                  1.0                     4.0            1.0   \n",
              "3            3.0                  5.0                     5.0            4.0   \n",
              "4            3.0                  2.0                     3.0            1.0   \n",
              "\n",
              "   sick_from_seas_vacc  no_of_adults  no_of_children  \n",
              "0                  2.0           0.0             0.0  \n",
              "1                  4.0           0.0             0.0  \n",
              "2                  2.0           2.0             0.0  \n",
              "3                  1.0           0.0             0.0  \n",
              "4                  4.0           1.0             0.0  "
            ]
          },
          "execution_count": 24,
          "metadata": {},
          "output_type": "execute_result"
        }
      ],
      "source": [
        "float_columns.head()"
      ]
    },
    {
      "cell_type": "code",
      "execution_count": null,
      "id": "5a109ada",
      "metadata": {
        "id": "5a109ada"
      },
      "outputs": [],
      "source": [
        " float_str=float_columns.astype(\"O\")"
      ]
    },
    {
      "cell_type": "code",
      "execution_count": null,
      "id": "29ef416d",
      "metadata": {
        "id": "29ef416d"
      },
      "outputs": [],
      "source": [
        "float_str[\"h1n1_worry\"].fillna(2.0,inplace=True)\n",
        "float_str[\"h1n1_awareness\"].fillna(1.0,inplace=True)\n",
        "float_str[\"antiviral_medication\"].fillna(1.0,inplace=True)\n",
        "float_str[\"contact_avoidance\"].fillna(1.0,inplace=True)\n",
        "float_str[\"bought_face_mask\"].fillna(0.0,inplace=True)\n",
        "float_str[\"wash_hands_frequently\"].fillna(1.0,inplace=True)\n",
        "float_str[\"avoid_large_gatherings\"].fillna(0.0,inplace=True)\n",
        "float_str[\"reduced_outside_home_cont\"].fillna(0.0,inplace=True)\n",
        "float_str[\"avoid_touch_face\"].fillna(1.0,inplace=True)\n",
        "float_str[\"chronic_medic_condition\"].fillna(0.0,inplace=True)\n",
        "float_str[\"cont_child_undr_6_mnths\"].fillna(0.0,inplace=True)\n",
        "float_str[\"is_health_worker\"].fillna(0.0,inplace=True)\n",
        "float_str[\"is_h1n1_vacc_effective\"].fillna(4.0,inplace=True)\n",
        "float_str[\"is_h1n1_risky\"].fillna(2.0,inplace=True)\n",
        "float_str[\"is_seas_vacc_effective\"].fillna(4.0,inplace=True)\n",
        "float_str[\"is_seas_risky\"].fillna(2.0,inplace=True)\n",
        "float_str[\"sick_from_seas_vacc\"].fillna(1.0,inplace=True)\n",
        "float_str[\"no_of_adults\"].fillna(1.0,inplace=True)\n",
        "float_str[\"no_of_children\"].fillna(0.0,inplace=True)\n",
        "float_str[\"sick_from_h1n1_vacc\"].fillna(2.0,inplace=True)"
      ]
    },
    {
      "cell_type": "code",
      "execution_count": null,
      "id": "0c56c9c5",
      "metadata": {
        "id": "0c56c9c5",
        "outputId": "378b6567-d1fe-43bb-ed70-da1d95c73ce3"
      },
      "outputs": [
        {
          "data": {
            "text/plain": [
              "h1n1_worry                   0\n",
              "h1n1_awareness               0\n",
              "antiviral_medication         0\n",
              "contact_avoidance            0\n",
              "bought_face_mask             0\n",
              "wash_hands_frequently        0\n",
              "avoid_large_gatherings       0\n",
              "reduced_outside_home_cont    0\n",
              "avoid_touch_face             0\n",
              "chronic_medic_condition      0\n",
              "cont_child_undr_6_mnths      0\n",
              "is_health_worker             0\n",
              "is_h1n1_vacc_effective       0\n",
              "is_h1n1_risky                0\n",
              "sick_from_h1n1_vacc          0\n",
              "is_seas_vacc_effective       0\n",
              "is_seas_risky                0\n",
              "sick_from_seas_vacc          0\n",
              "no_of_adults                 0\n",
              "no_of_children               0\n",
              "dtype: int64"
            ]
          },
          "execution_count": 27,
          "metadata": {},
          "output_type": "execute_result"
        }
      ],
      "source": [
        " float_str.isnull().sum()"
      ]
    },
    {
      "cell_type": "code",
      "execution_count": null,
      "id": "0ec899a3",
      "metadata": {
        "scrolled": true,
        "id": "0ec899a3",
        "outputId": "4312506e-083e-4643-969e-96e891e54588"
      },
      "outputs": [
        {
          "data": {
            "text/plain": [
              "h1n1_worry                   0\n",
              "h1n1_awareness               0\n",
              "antiviral_medication         0\n",
              "contact_avoidance            0\n",
              "bought_face_mask             0\n",
              "wash_hands_frequently        0\n",
              "avoid_large_gatherings       0\n",
              "reduced_outside_home_cont    0\n",
              "avoid_touch_face             0\n",
              "chronic_medic_condition      0\n",
              "cont_child_undr_6_mnths      0\n",
              "is_health_worker             0\n",
              "is_h1n1_vacc_effective       0\n",
              "is_h1n1_risky                0\n",
              "sick_from_h1n1_vacc          0\n",
              "is_seas_vacc_effective       0\n",
              "is_seas_risky                0\n",
              "sick_from_seas_vacc          0\n",
              "no_of_adults                 0\n",
              "no_of_children               0\n",
              "dtype: int64"
            ]
          },
          "execution_count": 28,
          "metadata": {},
          "output_type": "execute_result"
        }
      ],
      "source": [
        "float_str.isnull().sum()"
      ]
    },
    {
      "cell_type": "code",
      "execution_count": null,
      "id": "138a9982",
      "metadata": {
        "id": "138a9982",
        "outputId": "36020d3b-fc43-48e4-f09e-3c0b6eb405c3"
      },
      "outputs": [
        {
          "name": "stdout",
          "output_type": "stream",
          "text": [
            "<class 'pandas.core.frame.DataFrame'>\n",
            "RangeIndex: 26707 entries, 0 to 26706\n",
            "Data columns (total 20 columns):\n",
            " #   Column                     Non-Null Count  Dtype  \n",
            "---  ------                     --------------  -----  \n",
            " 0   h1n1_worry                 26707 non-null  float64\n",
            " 1   h1n1_awareness             26707 non-null  float64\n",
            " 2   antiviral_medication       26707 non-null  float64\n",
            " 3   contact_avoidance          26707 non-null  float64\n",
            " 4   bought_face_mask           26707 non-null  float64\n",
            " 5   wash_hands_frequently      26707 non-null  float64\n",
            " 6   avoid_large_gatherings     26707 non-null  float64\n",
            " 7   reduced_outside_home_cont  26707 non-null  float64\n",
            " 8   avoid_touch_face           26707 non-null  float64\n",
            " 9   chronic_medic_condition    26707 non-null  float64\n",
            " 10  cont_child_undr_6_mnths    26707 non-null  float64\n",
            " 11  is_health_worker           26707 non-null  float64\n",
            " 12  is_h1n1_vacc_effective     26707 non-null  float64\n",
            " 13  is_h1n1_risky              26707 non-null  float64\n",
            " 14  sick_from_h1n1_vacc        26707 non-null  float64\n",
            " 15  is_seas_vacc_effective     26707 non-null  float64\n",
            " 16  is_seas_risky              26707 non-null  float64\n",
            " 17  sick_from_seas_vacc        26707 non-null  float64\n",
            " 18  no_of_adults               26707 non-null  float64\n",
            " 19  no_of_children             26707 non-null  float64\n",
            "dtypes: float64(20)\n",
            "memory usage: 4.1 MB\n"
          ]
        }
      ],
      "source": [
        "float_str.info()"
      ]
    },
    {
      "cell_type": "code",
      "execution_count": null,
      "id": "6bddbedf",
      "metadata": {
        "id": "6bddbedf"
      },
      "outputs": [],
      "source": [
        "# for i in float_str:\n",
        "  #  float_str[i] = float_str[i].astype(float)"
      ]
    },
    {
      "cell_type": "code",
      "execution_count": null,
      "id": "12168c3f",
      "metadata": {
        "id": "12168c3f"
      },
      "outputs": [],
      "source": []
    },
    {
      "cell_type": "code",
      "execution_count": null,
      "id": "48795211",
      "metadata": {
        "scrolled": true,
        "id": "48795211",
        "outputId": "f9ee5cd0-425b-41cb-d82f-6a1e61c25af5"
      },
      "outputs": [
        {
          "name": "stdout",
          "output_type": "stream",
          "text": [
            "<class 'pandas.core.frame.DataFrame'>\n",
            "RangeIndex: 26707 entries, 0 to 26706\n",
            "Data columns (total 20 columns):\n",
            " #   Column                     Non-Null Count  Dtype  \n",
            "---  ------                     --------------  -----  \n",
            " 0   h1n1_worry                 26707 non-null  float64\n",
            " 1   h1n1_awareness             26707 non-null  float64\n",
            " 2   antiviral_medication       26707 non-null  float64\n",
            " 3   contact_avoidance          26707 non-null  float64\n",
            " 4   bought_face_mask           26707 non-null  float64\n",
            " 5   wash_hands_frequently      26707 non-null  float64\n",
            " 6   avoid_large_gatherings     26707 non-null  float64\n",
            " 7   reduced_outside_home_cont  26707 non-null  float64\n",
            " 8   avoid_touch_face           26707 non-null  float64\n",
            " 9   chronic_medic_condition    26707 non-null  float64\n",
            " 10  cont_child_undr_6_mnths    26707 non-null  float64\n",
            " 11  is_health_worker           26707 non-null  float64\n",
            " 12  is_h1n1_vacc_effective     26707 non-null  float64\n",
            " 13  is_h1n1_risky              26707 non-null  float64\n",
            " 14  sick_from_h1n1_vacc        26707 non-null  float64\n",
            " 15  is_seas_vacc_effective     26707 non-null  float64\n",
            " 16  is_seas_risky              26707 non-null  float64\n",
            " 17  sick_from_seas_vacc        26707 non-null  float64\n",
            " 18  no_of_adults               26707 non-null  float64\n",
            " 19  no_of_children             26707 non-null  float64\n",
            "dtypes: float64(20)\n",
            "memory usage: 4.1 MB\n"
          ]
        }
      ],
      "source": [
        "float_str.info()"
      ]
    },
    {
      "cell_type": "code",
      "execution_count": null,
      "id": "0b836476",
      "metadata": {
        "scrolled": true,
        "id": "0b836476",
        "outputId": "4c424c61-0341-4fda-a465-2049cd4d0b0f"
      },
      "outputs": [
        {
          "data": {
            "text/html": [
              "<div>\n",
              "<style scoped>\n",
              "    .dataframe tbody tr th:only-of-type {\n",
              "        vertical-align: middle;\n",
              "    }\n",
              "\n",
              "    .dataframe tbody tr th {\n",
              "        vertical-align: top;\n",
              "    }\n",
              "\n",
              "    .dataframe thead th {\n",
              "        text-align: right;\n",
              "    }\n",
              "</style>\n",
              "<table border=\"1\" class=\"dataframe\">\n",
              "  <thead>\n",
              "    <tr style=\"text-align: right;\">\n",
              "      <th></th>\n",
              "      <th>h1n1_worry</th>\n",
              "      <th>h1n1_awareness</th>\n",
              "      <th>antiviral_medication</th>\n",
              "      <th>contact_avoidance</th>\n",
              "      <th>bought_face_mask</th>\n",
              "      <th>wash_hands_frequently</th>\n",
              "      <th>avoid_large_gatherings</th>\n",
              "      <th>reduced_outside_home_cont</th>\n",
              "      <th>avoid_touch_face</th>\n",
              "      <th>chronic_medic_condition</th>\n",
              "      <th>cont_child_undr_6_mnths</th>\n",
              "      <th>is_health_worker</th>\n",
              "      <th>is_h1n1_vacc_effective</th>\n",
              "      <th>is_h1n1_risky</th>\n",
              "      <th>sick_from_h1n1_vacc</th>\n",
              "      <th>is_seas_vacc_effective</th>\n",
              "      <th>is_seas_risky</th>\n",
              "      <th>sick_from_seas_vacc</th>\n",
              "      <th>no_of_adults</th>\n",
              "      <th>no_of_children</th>\n",
              "    </tr>\n",
              "  </thead>\n",
              "  <tbody>\n",
              "    <tr>\n",
              "      <th>0</th>\n",
              "      <td>1.0</td>\n",
              "      <td>0.0</td>\n",
              "      <td>0.0</td>\n",
              "      <td>0.0</td>\n",
              "      <td>0.0</td>\n",
              "      <td>0.0</td>\n",
              "      <td>0.0</td>\n",
              "      <td>1.0</td>\n",
              "      <td>1.0</td>\n",
              "      <td>0.0</td>\n",
              "      <td>0.0</td>\n",
              "      <td>0.0</td>\n",
              "      <td>3.0</td>\n",
              "      <td>1.0</td>\n",
              "      <td>2.0</td>\n",
              "      <td>2.0</td>\n",
              "      <td>1.0</td>\n",
              "      <td>2.0</td>\n",
              "      <td>0.0</td>\n",
              "      <td>0.0</td>\n",
              "    </tr>\n",
              "    <tr>\n",
              "      <th>1</th>\n",
              "      <td>3.0</td>\n",
              "      <td>2.0</td>\n",
              "      <td>0.0</td>\n",
              "      <td>1.0</td>\n",
              "      <td>0.0</td>\n",
              "      <td>1.0</td>\n",
              "      <td>0.0</td>\n",
              "      <td>1.0</td>\n",
              "      <td>1.0</td>\n",
              "      <td>0.0</td>\n",
              "      <td>0.0</td>\n",
              "      <td>0.0</td>\n",
              "      <td>5.0</td>\n",
              "      <td>4.0</td>\n",
              "      <td>4.0</td>\n",
              "      <td>4.0</td>\n",
              "      <td>2.0</td>\n",
              "      <td>4.0</td>\n",
              "      <td>0.0</td>\n",
              "      <td>0.0</td>\n",
              "    </tr>\n",
              "    <tr>\n",
              "      <th>2</th>\n",
              "      <td>1.0</td>\n",
              "      <td>1.0</td>\n",
              "      <td>0.0</td>\n",
              "      <td>1.0</td>\n",
              "      <td>0.0</td>\n",
              "      <td>0.0</td>\n",
              "      <td>0.0</td>\n",
              "      <td>0.0</td>\n",
              "      <td>0.0</td>\n",
              "      <td>1.0</td>\n",
              "      <td>0.0</td>\n",
              "      <td>0.0</td>\n",
              "      <td>3.0</td>\n",
              "      <td>1.0</td>\n",
              "      <td>1.0</td>\n",
              "      <td>4.0</td>\n",
              "      <td>1.0</td>\n",
              "      <td>2.0</td>\n",
              "      <td>2.0</td>\n",
              "      <td>0.0</td>\n",
              "    </tr>\n",
              "    <tr>\n",
              "      <th>3</th>\n",
              "      <td>1.0</td>\n",
              "      <td>1.0</td>\n",
              "      <td>0.0</td>\n",
              "      <td>1.0</td>\n",
              "      <td>0.0</td>\n",
              "      <td>1.0</td>\n",
              "      <td>1.0</td>\n",
              "      <td>0.0</td>\n",
              "      <td>0.0</td>\n",
              "      <td>1.0</td>\n",
              "      <td>0.0</td>\n",
              "      <td>0.0</td>\n",
              "      <td>3.0</td>\n",
              "      <td>3.0</td>\n",
              "      <td>5.0</td>\n",
              "      <td>5.0</td>\n",
              "      <td>4.0</td>\n",
              "      <td>1.0</td>\n",
              "      <td>0.0</td>\n",
              "      <td>0.0</td>\n",
              "    </tr>\n",
              "    <tr>\n",
              "      <th>4</th>\n",
              "      <td>2.0</td>\n",
              "      <td>1.0</td>\n",
              "      <td>0.0</td>\n",
              "      <td>1.0</td>\n",
              "      <td>0.0</td>\n",
              "      <td>1.0</td>\n",
              "      <td>1.0</td>\n",
              "      <td>0.0</td>\n",
              "      <td>1.0</td>\n",
              "      <td>0.0</td>\n",
              "      <td>0.0</td>\n",
              "      <td>0.0</td>\n",
              "      <td>3.0</td>\n",
              "      <td>3.0</td>\n",
              "      <td>2.0</td>\n",
              "      <td>3.0</td>\n",
              "      <td>1.0</td>\n",
              "      <td>4.0</td>\n",
              "      <td>1.0</td>\n",
              "      <td>0.0</td>\n",
              "    </tr>\n",
              "  </tbody>\n",
              "</table>\n",
              "</div>"
            ],
            "text/plain": [
              "   h1n1_worry  h1n1_awareness  antiviral_medication  contact_avoidance  \\\n",
              "0         1.0             0.0                   0.0                0.0   \n",
              "1         3.0             2.0                   0.0                1.0   \n",
              "2         1.0             1.0                   0.0                1.0   \n",
              "3         1.0             1.0                   0.0                1.0   \n",
              "4         2.0             1.0                   0.0                1.0   \n",
              "\n",
              "   bought_face_mask  wash_hands_frequently  avoid_large_gatherings  \\\n",
              "0               0.0                    0.0                     0.0   \n",
              "1               0.0                    1.0                     0.0   \n",
              "2               0.0                    0.0                     0.0   \n",
              "3               0.0                    1.0                     1.0   \n",
              "4               0.0                    1.0                     1.0   \n",
              "\n",
              "   reduced_outside_home_cont  avoid_touch_face  chronic_medic_condition  \\\n",
              "0                        1.0               1.0                      0.0   \n",
              "1                        1.0               1.0                      0.0   \n",
              "2                        0.0               0.0                      1.0   \n",
              "3                        0.0               0.0                      1.0   \n",
              "4                        0.0               1.0                      0.0   \n",
              "\n",
              "   cont_child_undr_6_mnths  is_health_worker  is_h1n1_vacc_effective  \\\n",
              "0                      0.0               0.0                     3.0   \n",
              "1                      0.0               0.0                     5.0   \n",
              "2                      0.0               0.0                     3.0   \n",
              "3                      0.0               0.0                     3.0   \n",
              "4                      0.0               0.0                     3.0   \n",
              "\n",
              "   is_h1n1_risky  sick_from_h1n1_vacc  is_seas_vacc_effective  is_seas_risky  \\\n",
              "0            1.0                  2.0                     2.0            1.0   \n",
              "1            4.0                  4.0                     4.0            2.0   \n",
              "2            1.0                  1.0                     4.0            1.0   \n",
              "3            3.0                  5.0                     5.0            4.0   \n",
              "4            3.0                  2.0                     3.0            1.0   \n",
              "\n",
              "   sick_from_seas_vacc  no_of_adults  no_of_children  \n",
              "0                  2.0           0.0             0.0  \n",
              "1                  4.0           0.0             0.0  \n",
              "2                  2.0           2.0             0.0  \n",
              "3                  1.0           0.0             0.0  \n",
              "4                  4.0           1.0             0.0  "
            ]
          },
          "execution_count": 32,
          "metadata": {},
          "output_type": "execute_result"
        }
      ],
      "source": [
        "float_str.head()"
      ]
    },
    {
      "cell_type": "code",
      "execution_count": null,
      "id": "fb2268c7",
      "metadata": {
        "id": "fb2268c7",
        "outputId": "29e1f2b0-50c6-4e70-c02f-c59417780ef9"
      },
      "outputs": [
        {
          "name": "stdout",
          "output_type": "stream",
          "text": [
            "<class 'pandas.core.frame.DataFrame'>\n",
            "RangeIndex: 26707 entries, 0 to 26706\n",
            "Data columns (total 20 columns):\n",
            " #   Column                     Non-Null Count  Dtype  \n",
            "---  ------                     --------------  -----  \n",
            " 0   h1n1_worry                 26707 non-null  float64\n",
            " 1   h1n1_awareness             26707 non-null  float64\n",
            " 2   antiviral_medication       26707 non-null  float64\n",
            " 3   contact_avoidance          26707 non-null  float64\n",
            " 4   bought_face_mask           26707 non-null  float64\n",
            " 5   wash_hands_frequently      26707 non-null  float64\n",
            " 6   avoid_large_gatherings     26707 non-null  float64\n",
            " 7   reduced_outside_home_cont  26707 non-null  float64\n",
            " 8   avoid_touch_face           26707 non-null  float64\n",
            " 9   chronic_medic_condition    26707 non-null  float64\n",
            " 10  cont_child_undr_6_mnths    26707 non-null  float64\n",
            " 11  is_health_worker           26707 non-null  float64\n",
            " 12  is_h1n1_vacc_effective     26707 non-null  float64\n",
            " 13  is_h1n1_risky              26707 non-null  float64\n",
            " 14  sick_from_h1n1_vacc        26707 non-null  float64\n",
            " 15  is_seas_vacc_effective     26707 non-null  float64\n",
            " 16  is_seas_risky              26707 non-null  float64\n",
            " 17  sick_from_seas_vacc        26707 non-null  float64\n",
            " 18  no_of_adults               26707 non-null  float64\n",
            " 19  no_of_children             26707 non-null  float64\n",
            "dtypes: float64(20)\n",
            "memory usage: 4.1 MB\n"
          ]
        }
      ],
      "source": [
        "float_str.info()"
      ]
    },
    {
      "cell_type": "code",
      "execution_count": null,
      "id": "928bb417",
      "metadata": {
        "id": "928bb417"
      },
      "outputs": [],
      "source": [
        "str=df.select_dtypes(\"O\")"
      ]
    },
    {
      "cell_type": "code",
      "execution_count": null,
      "id": "1f46be41",
      "metadata": {
        "scrolled": true,
        "id": "1f46be41",
        "outputId": "87dbd246-5035-4748-9c01-466bb162de9f"
      },
      "outputs": [
        {
          "data": {
            "text/html": [
              "<div>\n",
              "<style scoped>\n",
              "    .dataframe tbody tr th:only-of-type {\n",
              "        vertical-align: middle;\n",
              "    }\n",
              "\n",
              "    .dataframe tbody tr th {\n",
              "        vertical-align: top;\n",
              "    }\n",
              "\n",
              "    .dataframe thead th {\n",
              "        text-align: right;\n",
              "    }\n",
              "</style>\n",
              "<table border=\"1\" class=\"dataframe\">\n",
              "  <thead>\n",
              "    <tr style=\"text-align: right;\">\n",
              "      <th></th>\n",
              "      <th>age_bracket</th>\n",
              "      <th>qualification</th>\n",
              "      <th>race</th>\n",
              "      <th>sex</th>\n",
              "      <th>marital_status</th>\n",
              "      <th>employment</th>\n",
              "      <th>census_msa</th>\n",
              "    </tr>\n",
              "  </thead>\n",
              "  <tbody>\n",
              "    <tr>\n",
              "      <th>0</th>\n",
              "      <td>55 - 64 Years</td>\n",
              "      <td>&lt; 12 Years</td>\n",
              "      <td>White</td>\n",
              "      <td>Female</td>\n",
              "      <td>Not Married</td>\n",
              "      <td>Not in Labor Force</td>\n",
              "      <td>Non-MSA</td>\n",
              "    </tr>\n",
              "    <tr>\n",
              "      <th>1</th>\n",
              "      <td>35 - 44 Years</td>\n",
              "      <td>12 Years</td>\n",
              "      <td>White</td>\n",
              "      <td>Male</td>\n",
              "      <td>Not Married</td>\n",
              "      <td>Employed</td>\n",
              "      <td>MSA, Not Principle  City</td>\n",
              "    </tr>\n",
              "    <tr>\n",
              "      <th>2</th>\n",
              "      <td>18 - 34 Years</td>\n",
              "      <td>College Graduate</td>\n",
              "      <td>White</td>\n",
              "      <td>Male</td>\n",
              "      <td>Not Married</td>\n",
              "      <td>Employed</td>\n",
              "      <td>MSA, Not Principle  City</td>\n",
              "    </tr>\n",
              "    <tr>\n",
              "      <th>3</th>\n",
              "      <td>65+ Years</td>\n",
              "      <td>12 Years</td>\n",
              "      <td>White</td>\n",
              "      <td>Female</td>\n",
              "      <td>Not Married</td>\n",
              "      <td>Not in Labor Force</td>\n",
              "      <td>MSA, Principle City</td>\n",
              "    </tr>\n",
              "    <tr>\n",
              "      <th>4</th>\n",
              "      <td>45 - 54 Years</td>\n",
              "      <td>Some College</td>\n",
              "      <td>White</td>\n",
              "      <td>Female</td>\n",
              "      <td>Married</td>\n",
              "      <td>Employed</td>\n",
              "      <td>MSA, Not Principle  City</td>\n",
              "    </tr>\n",
              "  </tbody>\n",
              "</table>\n",
              "</div>"
            ],
            "text/plain": [
              "     age_bracket     qualification   race     sex marital_status  \\\n",
              "0  55 - 64 Years        < 12 Years  White  Female    Not Married   \n",
              "1  35 - 44 Years          12 Years  White    Male    Not Married   \n",
              "2  18 - 34 Years  College Graduate  White    Male    Not Married   \n",
              "3      65+ Years          12 Years  White  Female    Not Married   \n",
              "4  45 - 54 Years      Some College  White  Female        Married   \n",
              "\n",
              "           employment                census_msa  \n",
              "0  Not in Labor Force                   Non-MSA  \n",
              "1            Employed  MSA, Not Principle  City  \n",
              "2            Employed  MSA, Not Principle  City  \n",
              "3  Not in Labor Force       MSA, Principle City  \n",
              "4            Employed  MSA, Not Principle  City  "
            ]
          },
          "execution_count": 35,
          "metadata": {},
          "output_type": "execute_result"
        }
      ],
      "source": [
        "str.head()"
      ]
    },
    {
      "cell_type": "code",
      "execution_count": null,
      "id": "dafb8c4c",
      "metadata": {
        "scrolled": false,
        "id": "dafb8c4c",
        "outputId": "ec67139a-2b2a-475b-bedc-74c31f74d2dd"
      },
      "outputs": [
        {
          "name": "stdout",
          "output_type": "stream",
          "text": [
            "<class 'pandas.core.frame.DataFrame'>\n",
            "RangeIndex: 26707 entries, 0 to 26706\n",
            "Data columns (total 7 columns):\n",
            " #   Column          Non-Null Count  Dtype \n",
            "---  ------          --------------  ----- \n",
            " 0   age_bracket     26707 non-null  object\n",
            " 1   qualification   25300 non-null  object\n",
            " 2   race            26707 non-null  object\n",
            " 3   sex             26707 non-null  object\n",
            " 4   marital_status  25299 non-null  object\n",
            " 5   employment      25244 non-null  object\n",
            " 6   census_msa      26707 non-null  object\n",
            "dtypes: object(7)\n",
            "memory usage: 1.4+ MB\n"
          ]
        }
      ],
      "source": [
        "str.info()"
      ]
    },
    {
      "cell_type": "code",
      "execution_count": null,
      "id": "4cbc2836",
      "metadata": {
        "id": "4cbc2836",
        "outputId": "bf810a6a-4fe5-46de-b098-aeb54e37f57b"
      },
      "outputs": [
        {
          "data": {
            "text/plain": [
              "age_bracket          0\n",
              "qualification     1407\n",
              "race                 0\n",
              "sex                  0\n",
              "marital_status    1408\n",
              "employment        1463\n",
              "census_msa           0\n",
              "dtype: int64"
            ]
          },
          "execution_count": 37,
          "metadata": {},
          "output_type": "execute_result"
        }
      ],
      "source": [
        "str.isnull().sum()"
      ]
    },
    {
      "cell_type": "code",
      "execution_count": null,
      "id": "8741495e",
      "metadata": {
        "scrolled": true,
        "id": "8741495e",
        "outputId": "40cee92b-4ffb-47f9-ff9b-3d6ee405d66a"
      },
      "outputs": [
        {
          "data": {
            "text/plain": [
              "0    College Graduate\n",
              "dtype: object"
            ]
          },
          "execution_count": 38,
          "metadata": {},
          "output_type": "execute_result"
        }
      ],
      "source": [
        "str[\"qualification\"].mode()"
      ]
    },
    {
      "cell_type": "code",
      "execution_count": null,
      "id": "a0979483",
      "metadata": {
        "scrolled": false,
        "id": "a0979483",
        "outputId": "65e604ce-9d97-4ef2-9f7b-5c19b06f2dc0"
      },
      "outputs": [
        {
          "data": {
            "text/plain": [
              "0    Married\n",
              "dtype: object"
            ]
          },
          "execution_count": 39,
          "metadata": {},
          "output_type": "execute_result"
        }
      ],
      "source": [
        "str[\"marital_status\"].mode()"
      ]
    },
    {
      "cell_type": "code",
      "execution_count": null,
      "id": "bd83b9f5",
      "metadata": {
        "id": "bd83b9f5",
        "outputId": "0f710417-f281-4cb3-8887-e240a3a5bac3"
      },
      "outputs": [
        {
          "data": {
            "text/plain": [
              "0    Employed\n",
              "dtype: object"
            ]
          },
          "execution_count": 40,
          "metadata": {},
          "output_type": "execute_result"
        }
      ],
      "source": [
        "str[\"employment\"].mode()"
      ]
    },
    {
      "cell_type": "code",
      "execution_count": null,
      "id": "49058254",
      "metadata": {
        "id": "49058254"
      },
      "outputs": [],
      "source": [
        "str[\"qualification\"].fillna(\"College Graduate\",inplace=True)"
      ]
    },
    {
      "cell_type": "code",
      "execution_count": null,
      "id": "73782aa9",
      "metadata": {
        "id": "73782aa9"
      },
      "outputs": [],
      "source": [
        "str[\"marital_status\"].fillna(\"Married\",inplace=True)"
      ]
    },
    {
      "cell_type": "code",
      "execution_count": null,
      "id": "7e6ffe32",
      "metadata": {
        "id": "7e6ffe32"
      },
      "outputs": [],
      "source": [
        "str[\"employment\"].fillna(\"Employed\",inplace=True)"
      ]
    },
    {
      "cell_type": "code",
      "execution_count": null,
      "id": "c20cd4b8",
      "metadata": {
        "scrolled": false,
        "id": "c20cd4b8",
        "outputId": "f7902e94-d390-453c-eb63-7e7f7fd475e9"
      },
      "outputs": [
        {
          "data": {
            "text/plain": [
              "age_bracket       0\n",
              "qualification     0\n",
              "race              0\n",
              "sex               0\n",
              "marital_status    0\n",
              "employment        0\n",
              "census_msa        0\n",
              "dtype: int64"
            ]
          },
          "execution_count": 44,
          "metadata": {},
          "output_type": "execute_result"
        }
      ],
      "source": [
        "str.isnull().sum()"
      ]
    },
    {
      "cell_type": "code",
      "execution_count": null,
      "id": "b0627acf",
      "metadata": {
        "scrolled": false,
        "id": "b0627acf",
        "outputId": "834cc2a3-098c-4cbd-e5be-864be8f94528"
      },
      "outputs": [
        {
          "data": {
            "text/html": [
              "<div>\n",
              "<style scoped>\n",
              "    .dataframe tbody tr th:only-of-type {\n",
              "        vertical-align: middle;\n",
              "    }\n",
              "\n",
              "    .dataframe tbody tr th {\n",
              "        vertical-align: top;\n",
              "    }\n",
              "\n",
              "    .dataframe thead th {\n",
              "        text-align: right;\n",
              "    }\n",
              "</style>\n",
              "<table border=\"1\" class=\"dataframe\">\n",
              "  <thead>\n",
              "    <tr style=\"text-align: right;\">\n",
              "      <th></th>\n",
              "      <th>age_bracket</th>\n",
              "      <th>qualification</th>\n",
              "      <th>race</th>\n",
              "      <th>sex</th>\n",
              "      <th>marital_status</th>\n",
              "      <th>employment</th>\n",
              "      <th>census_msa</th>\n",
              "    </tr>\n",
              "  </thead>\n",
              "  <tbody>\n",
              "    <tr>\n",
              "      <th>0</th>\n",
              "      <td>55 - 64 Years</td>\n",
              "      <td>&lt; 12 Years</td>\n",
              "      <td>White</td>\n",
              "      <td>Female</td>\n",
              "      <td>Not Married</td>\n",
              "      <td>Not in Labor Force</td>\n",
              "      <td>Non-MSA</td>\n",
              "    </tr>\n",
              "    <tr>\n",
              "      <th>1</th>\n",
              "      <td>35 - 44 Years</td>\n",
              "      <td>12 Years</td>\n",
              "      <td>White</td>\n",
              "      <td>Male</td>\n",
              "      <td>Not Married</td>\n",
              "      <td>Employed</td>\n",
              "      <td>MSA, Not Principle  City</td>\n",
              "    </tr>\n",
              "    <tr>\n",
              "      <th>2</th>\n",
              "      <td>18 - 34 Years</td>\n",
              "      <td>College Graduate</td>\n",
              "      <td>White</td>\n",
              "      <td>Male</td>\n",
              "      <td>Not Married</td>\n",
              "      <td>Employed</td>\n",
              "      <td>MSA, Not Principle  City</td>\n",
              "    </tr>\n",
              "    <tr>\n",
              "      <th>3</th>\n",
              "      <td>65+ Years</td>\n",
              "      <td>12 Years</td>\n",
              "      <td>White</td>\n",
              "      <td>Female</td>\n",
              "      <td>Not Married</td>\n",
              "      <td>Not in Labor Force</td>\n",
              "      <td>MSA, Principle City</td>\n",
              "    </tr>\n",
              "    <tr>\n",
              "      <th>4</th>\n",
              "      <td>45 - 54 Years</td>\n",
              "      <td>Some College</td>\n",
              "      <td>White</td>\n",
              "      <td>Female</td>\n",
              "      <td>Married</td>\n",
              "      <td>Employed</td>\n",
              "      <td>MSA, Not Principle  City</td>\n",
              "    </tr>\n",
              "  </tbody>\n",
              "</table>\n",
              "</div>"
            ],
            "text/plain": [
              "     age_bracket     qualification   race     sex marital_status  \\\n",
              "0  55 - 64 Years        < 12 Years  White  Female    Not Married   \n",
              "1  35 - 44 Years          12 Years  White    Male    Not Married   \n",
              "2  18 - 34 Years  College Graduate  White    Male    Not Married   \n",
              "3      65+ Years          12 Years  White  Female    Not Married   \n",
              "4  45 - 54 Years      Some College  White  Female        Married   \n",
              "\n",
              "           employment                census_msa  \n",
              "0  Not in Labor Force                   Non-MSA  \n",
              "1            Employed  MSA, Not Principle  City  \n",
              "2            Employed  MSA, Not Principle  City  \n",
              "3  Not in Labor Force       MSA, Principle City  \n",
              "4            Employed  MSA, Not Principle  City  "
            ]
          },
          "execution_count": 45,
          "metadata": {},
          "output_type": "execute_result"
        }
      ],
      "source": [
        "str.head()"
      ]
    },
    {
      "cell_type": "code",
      "execution_count": null,
      "id": "a2251f52",
      "metadata": {
        "id": "a2251f52",
        "outputId": "6aa66ad9-9b7c-49f2-c7f4-85068b92c3a3"
      },
      "outputs": [
        {
          "data": {
            "text/html": [
              "<div>\n",
              "<style scoped>\n",
              "    .dataframe tbody tr th:only-of-type {\n",
              "        vertical-align: middle;\n",
              "    }\n",
              "\n",
              "    .dataframe tbody tr th {\n",
              "        vertical-align: top;\n",
              "    }\n",
              "\n",
              "    .dataframe thead th {\n",
              "        text-align: right;\n",
              "    }\n",
              "</style>\n",
              "<table border=\"1\" class=\"dataframe\">\n",
              "  <thead>\n",
              "    <tr style=\"text-align: right;\">\n",
              "      <th></th>\n",
              "      <th>h1n1_worry</th>\n",
              "      <th>h1n1_awareness</th>\n",
              "      <th>antiviral_medication</th>\n",
              "      <th>contact_avoidance</th>\n",
              "      <th>bought_face_mask</th>\n",
              "      <th>wash_hands_frequently</th>\n",
              "      <th>avoid_large_gatherings</th>\n",
              "      <th>reduced_outside_home_cont</th>\n",
              "      <th>avoid_touch_face</th>\n",
              "      <th>chronic_medic_condition</th>\n",
              "      <th>cont_child_undr_6_mnths</th>\n",
              "      <th>is_health_worker</th>\n",
              "      <th>is_h1n1_vacc_effective</th>\n",
              "      <th>is_h1n1_risky</th>\n",
              "      <th>sick_from_h1n1_vacc</th>\n",
              "      <th>is_seas_vacc_effective</th>\n",
              "      <th>is_seas_risky</th>\n",
              "      <th>sick_from_seas_vacc</th>\n",
              "      <th>no_of_adults</th>\n",
              "      <th>no_of_children</th>\n",
              "    </tr>\n",
              "  </thead>\n",
              "  <tbody>\n",
              "    <tr>\n",
              "      <th>0</th>\n",
              "      <td>1.0</td>\n",
              "      <td>0.0</td>\n",
              "      <td>0.0</td>\n",
              "      <td>0.0</td>\n",
              "      <td>0.0</td>\n",
              "      <td>0.0</td>\n",
              "      <td>0.0</td>\n",
              "      <td>1.0</td>\n",
              "      <td>1.0</td>\n",
              "      <td>0.0</td>\n",
              "      <td>0.0</td>\n",
              "      <td>0.0</td>\n",
              "      <td>3.0</td>\n",
              "      <td>1.0</td>\n",
              "      <td>2.0</td>\n",
              "      <td>2.0</td>\n",
              "      <td>1.0</td>\n",
              "      <td>2.0</td>\n",
              "      <td>0.0</td>\n",
              "      <td>0.0</td>\n",
              "    </tr>\n",
              "    <tr>\n",
              "      <th>1</th>\n",
              "      <td>3.0</td>\n",
              "      <td>2.0</td>\n",
              "      <td>0.0</td>\n",
              "      <td>1.0</td>\n",
              "      <td>0.0</td>\n",
              "      <td>1.0</td>\n",
              "      <td>0.0</td>\n",
              "      <td>1.0</td>\n",
              "      <td>1.0</td>\n",
              "      <td>0.0</td>\n",
              "      <td>0.0</td>\n",
              "      <td>0.0</td>\n",
              "      <td>5.0</td>\n",
              "      <td>4.0</td>\n",
              "      <td>4.0</td>\n",
              "      <td>4.0</td>\n",
              "      <td>2.0</td>\n",
              "      <td>4.0</td>\n",
              "      <td>0.0</td>\n",
              "      <td>0.0</td>\n",
              "    </tr>\n",
              "    <tr>\n",
              "      <th>2</th>\n",
              "      <td>1.0</td>\n",
              "      <td>1.0</td>\n",
              "      <td>0.0</td>\n",
              "      <td>1.0</td>\n",
              "      <td>0.0</td>\n",
              "      <td>0.0</td>\n",
              "      <td>0.0</td>\n",
              "      <td>0.0</td>\n",
              "      <td>0.0</td>\n",
              "      <td>1.0</td>\n",
              "      <td>0.0</td>\n",
              "      <td>0.0</td>\n",
              "      <td>3.0</td>\n",
              "      <td>1.0</td>\n",
              "      <td>1.0</td>\n",
              "      <td>4.0</td>\n",
              "      <td>1.0</td>\n",
              "      <td>2.0</td>\n",
              "      <td>2.0</td>\n",
              "      <td>0.0</td>\n",
              "    </tr>\n",
              "    <tr>\n",
              "      <th>3</th>\n",
              "      <td>1.0</td>\n",
              "      <td>1.0</td>\n",
              "      <td>0.0</td>\n",
              "      <td>1.0</td>\n",
              "      <td>0.0</td>\n",
              "      <td>1.0</td>\n",
              "      <td>1.0</td>\n",
              "      <td>0.0</td>\n",
              "      <td>0.0</td>\n",
              "      <td>1.0</td>\n",
              "      <td>0.0</td>\n",
              "      <td>0.0</td>\n",
              "      <td>3.0</td>\n",
              "      <td>3.0</td>\n",
              "      <td>5.0</td>\n",
              "      <td>5.0</td>\n",
              "      <td>4.0</td>\n",
              "      <td>1.0</td>\n",
              "      <td>0.0</td>\n",
              "      <td>0.0</td>\n",
              "    </tr>\n",
              "    <tr>\n",
              "      <th>4</th>\n",
              "      <td>2.0</td>\n",
              "      <td>1.0</td>\n",
              "      <td>0.0</td>\n",
              "      <td>1.0</td>\n",
              "      <td>0.0</td>\n",
              "      <td>1.0</td>\n",
              "      <td>1.0</td>\n",
              "      <td>0.0</td>\n",
              "      <td>1.0</td>\n",
              "      <td>0.0</td>\n",
              "      <td>0.0</td>\n",
              "      <td>0.0</td>\n",
              "      <td>3.0</td>\n",
              "      <td>3.0</td>\n",
              "      <td>2.0</td>\n",
              "      <td>3.0</td>\n",
              "      <td>1.0</td>\n",
              "      <td>4.0</td>\n",
              "      <td>1.0</td>\n",
              "      <td>0.0</td>\n",
              "    </tr>\n",
              "  </tbody>\n",
              "</table>\n",
              "</div>"
            ],
            "text/plain": [
              "   h1n1_worry  h1n1_awareness  antiviral_medication  contact_avoidance  \\\n",
              "0         1.0             0.0                   0.0                0.0   \n",
              "1         3.0             2.0                   0.0                1.0   \n",
              "2         1.0             1.0                   0.0                1.0   \n",
              "3         1.0             1.0                   0.0                1.0   \n",
              "4         2.0             1.0                   0.0                1.0   \n",
              "\n",
              "   bought_face_mask  wash_hands_frequently  avoid_large_gatherings  \\\n",
              "0               0.0                    0.0                     0.0   \n",
              "1               0.0                    1.0                     0.0   \n",
              "2               0.0                    0.0                     0.0   \n",
              "3               0.0                    1.0                     1.0   \n",
              "4               0.0                    1.0                     1.0   \n",
              "\n",
              "   reduced_outside_home_cont  avoid_touch_face  chronic_medic_condition  \\\n",
              "0                        1.0               1.0                      0.0   \n",
              "1                        1.0               1.0                      0.0   \n",
              "2                        0.0               0.0                      1.0   \n",
              "3                        0.0               0.0                      1.0   \n",
              "4                        0.0               1.0                      0.0   \n",
              "\n",
              "   cont_child_undr_6_mnths  is_health_worker  is_h1n1_vacc_effective  \\\n",
              "0                      0.0               0.0                     3.0   \n",
              "1                      0.0               0.0                     5.0   \n",
              "2                      0.0               0.0                     3.0   \n",
              "3                      0.0               0.0                     3.0   \n",
              "4                      0.0               0.0                     3.0   \n",
              "\n",
              "   is_h1n1_risky  sick_from_h1n1_vacc  is_seas_vacc_effective  is_seas_risky  \\\n",
              "0            1.0                  2.0                     2.0            1.0   \n",
              "1            4.0                  4.0                     4.0            2.0   \n",
              "2            1.0                  1.0                     4.0            1.0   \n",
              "3            3.0                  5.0                     5.0            4.0   \n",
              "4            3.0                  2.0                     3.0            1.0   \n",
              "\n",
              "   sick_from_seas_vacc  no_of_adults  no_of_children  \n",
              "0                  2.0           0.0             0.0  \n",
              "1                  4.0           0.0             0.0  \n",
              "2                  2.0           2.0             0.0  \n",
              "3                  1.0           0.0             0.0  \n",
              "4                  4.0           1.0             0.0  "
            ]
          },
          "execution_count": 46,
          "metadata": {},
          "output_type": "execute_result"
        }
      ],
      "source": [
        "float_str.head()"
      ]
    },
    {
      "cell_type": "code",
      "execution_count": null,
      "id": "f1ee5f56",
      "metadata": {
        "id": "f1ee5f56"
      },
      "outputs": [],
      "source": [
        "data=float_str.join(str)"
      ]
    },
    {
      "cell_type": "code",
      "execution_count": null,
      "id": "8a839a14",
      "metadata": {
        "id": "8a839a14",
        "outputId": "755b372d-5fe4-447a-beda-0fc9f73d074b"
      },
      "outputs": [
        {
          "data": {
            "text/plain": [
              "h1n1_worry                   0\n",
              "h1n1_awareness               0\n",
              "antiviral_medication         0\n",
              "contact_avoidance            0\n",
              "bought_face_mask             0\n",
              "wash_hands_frequently        0\n",
              "avoid_large_gatherings       0\n",
              "reduced_outside_home_cont    0\n",
              "avoid_touch_face             0\n",
              "chronic_medic_condition      0\n",
              "cont_child_undr_6_mnths      0\n",
              "is_health_worker             0\n",
              "is_h1n1_vacc_effective       0\n",
              "is_h1n1_risky                0\n",
              "sick_from_h1n1_vacc          0\n",
              "is_seas_vacc_effective       0\n",
              "is_seas_risky                0\n",
              "sick_from_seas_vacc          0\n",
              "no_of_adults                 0\n",
              "no_of_children               0\n",
              "age_bracket                  0\n",
              "qualification                0\n",
              "race                         0\n",
              "sex                          0\n",
              "marital_status               0\n",
              "employment                   0\n",
              "census_msa                   0\n",
              "dtype: int64"
            ]
          },
          "execution_count": 48,
          "metadata": {},
          "output_type": "execute_result"
        }
      ],
      "source": [
        "data.isnull().sum()"
      ]
    },
    {
      "cell_type": "code",
      "execution_count": null,
      "id": "db1b4d2a",
      "metadata": {
        "id": "db1b4d2a",
        "outputId": "681aaafa-2943-435e-ee6c-810dd5aefc32"
      },
      "outputs": [
        {
          "data": {
            "text/html": [
              "<div>\n",
              "<style scoped>\n",
              "    .dataframe tbody tr th:only-of-type {\n",
              "        vertical-align: middle;\n",
              "    }\n",
              "\n",
              "    .dataframe tbody tr th {\n",
              "        vertical-align: top;\n",
              "    }\n",
              "\n",
              "    .dataframe thead th {\n",
              "        text-align: right;\n",
              "    }\n",
              "</style>\n",
              "<table border=\"1\" class=\"dataframe\">\n",
              "  <thead>\n",
              "    <tr style=\"text-align: right;\">\n",
              "      <th></th>\n",
              "      <th>h1n1_worry</th>\n",
              "      <th>h1n1_awareness</th>\n",
              "      <th>antiviral_medication</th>\n",
              "      <th>contact_avoidance</th>\n",
              "      <th>bought_face_mask</th>\n",
              "      <th>wash_hands_frequently</th>\n",
              "      <th>avoid_large_gatherings</th>\n",
              "      <th>reduced_outside_home_cont</th>\n",
              "      <th>avoid_touch_face</th>\n",
              "      <th>chronic_medic_condition</th>\n",
              "      <th>...</th>\n",
              "      <th>sick_from_seas_vacc</th>\n",
              "      <th>no_of_adults</th>\n",
              "      <th>no_of_children</th>\n",
              "      <th>age_bracket</th>\n",
              "      <th>qualification</th>\n",
              "      <th>race</th>\n",
              "      <th>sex</th>\n",
              "      <th>marital_status</th>\n",
              "      <th>employment</th>\n",
              "      <th>census_msa</th>\n",
              "    </tr>\n",
              "  </thead>\n",
              "  <tbody>\n",
              "    <tr>\n",
              "      <th>0</th>\n",
              "      <td>1.0</td>\n",
              "      <td>0.0</td>\n",
              "      <td>0.0</td>\n",
              "      <td>0.0</td>\n",
              "      <td>0.0</td>\n",
              "      <td>0.0</td>\n",
              "      <td>0.0</td>\n",
              "      <td>1.0</td>\n",
              "      <td>1.0</td>\n",
              "      <td>0.0</td>\n",
              "      <td>...</td>\n",
              "      <td>2.0</td>\n",
              "      <td>0.0</td>\n",
              "      <td>0.0</td>\n",
              "      <td>55 - 64 Years</td>\n",
              "      <td>&lt; 12 Years</td>\n",
              "      <td>White</td>\n",
              "      <td>Female</td>\n",
              "      <td>Not Married</td>\n",
              "      <td>Not in Labor Force</td>\n",
              "      <td>Non-MSA</td>\n",
              "    </tr>\n",
              "    <tr>\n",
              "      <th>1</th>\n",
              "      <td>3.0</td>\n",
              "      <td>2.0</td>\n",
              "      <td>0.0</td>\n",
              "      <td>1.0</td>\n",
              "      <td>0.0</td>\n",
              "      <td>1.0</td>\n",
              "      <td>0.0</td>\n",
              "      <td>1.0</td>\n",
              "      <td>1.0</td>\n",
              "      <td>0.0</td>\n",
              "      <td>...</td>\n",
              "      <td>4.0</td>\n",
              "      <td>0.0</td>\n",
              "      <td>0.0</td>\n",
              "      <td>35 - 44 Years</td>\n",
              "      <td>12 Years</td>\n",
              "      <td>White</td>\n",
              "      <td>Male</td>\n",
              "      <td>Not Married</td>\n",
              "      <td>Employed</td>\n",
              "      <td>MSA, Not Principle  City</td>\n",
              "    </tr>\n",
              "    <tr>\n",
              "      <th>2</th>\n",
              "      <td>1.0</td>\n",
              "      <td>1.0</td>\n",
              "      <td>0.0</td>\n",
              "      <td>1.0</td>\n",
              "      <td>0.0</td>\n",
              "      <td>0.0</td>\n",
              "      <td>0.0</td>\n",
              "      <td>0.0</td>\n",
              "      <td>0.0</td>\n",
              "      <td>1.0</td>\n",
              "      <td>...</td>\n",
              "      <td>2.0</td>\n",
              "      <td>2.0</td>\n",
              "      <td>0.0</td>\n",
              "      <td>18 - 34 Years</td>\n",
              "      <td>College Graduate</td>\n",
              "      <td>White</td>\n",
              "      <td>Male</td>\n",
              "      <td>Not Married</td>\n",
              "      <td>Employed</td>\n",
              "      <td>MSA, Not Principle  City</td>\n",
              "    </tr>\n",
              "    <tr>\n",
              "      <th>3</th>\n",
              "      <td>1.0</td>\n",
              "      <td>1.0</td>\n",
              "      <td>0.0</td>\n",
              "      <td>1.0</td>\n",
              "      <td>0.0</td>\n",
              "      <td>1.0</td>\n",
              "      <td>1.0</td>\n",
              "      <td>0.0</td>\n",
              "      <td>0.0</td>\n",
              "      <td>1.0</td>\n",
              "      <td>...</td>\n",
              "      <td>1.0</td>\n",
              "      <td>0.0</td>\n",
              "      <td>0.0</td>\n",
              "      <td>65+ Years</td>\n",
              "      <td>12 Years</td>\n",
              "      <td>White</td>\n",
              "      <td>Female</td>\n",
              "      <td>Not Married</td>\n",
              "      <td>Not in Labor Force</td>\n",
              "      <td>MSA, Principle City</td>\n",
              "    </tr>\n",
              "    <tr>\n",
              "      <th>4</th>\n",
              "      <td>2.0</td>\n",
              "      <td>1.0</td>\n",
              "      <td>0.0</td>\n",
              "      <td>1.0</td>\n",
              "      <td>0.0</td>\n",
              "      <td>1.0</td>\n",
              "      <td>1.0</td>\n",
              "      <td>0.0</td>\n",
              "      <td>1.0</td>\n",
              "      <td>0.0</td>\n",
              "      <td>...</td>\n",
              "      <td>4.0</td>\n",
              "      <td>1.0</td>\n",
              "      <td>0.0</td>\n",
              "      <td>45 - 54 Years</td>\n",
              "      <td>Some College</td>\n",
              "      <td>White</td>\n",
              "      <td>Female</td>\n",
              "      <td>Married</td>\n",
              "      <td>Employed</td>\n",
              "      <td>MSA, Not Principle  City</td>\n",
              "    </tr>\n",
              "  </tbody>\n",
              "</table>\n",
              "<p>5 rows × 27 columns</p>\n",
              "</div>"
            ],
            "text/plain": [
              "   h1n1_worry  h1n1_awareness  antiviral_medication  contact_avoidance  \\\n",
              "0         1.0             0.0                   0.0                0.0   \n",
              "1         3.0             2.0                   0.0                1.0   \n",
              "2         1.0             1.0                   0.0                1.0   \n",
              "3         1.0             1.0                   0.0                1.0   \n",
              "4         2.0             1.0                   0.0                1.0   \n",
              "\n",
              "   bought_face_mask  wash_hands_frequently  avoid_large_gatherings  \\\n",
              "0               0.0                    0.0                     0.0   \n",
              "1               0.0                    1.0                     0.0   \n",
              "2               0.0                    0.0                     0.0   \n",
              "3               0.0                    1.0                     1.0   \n",
              "4               0.0                    1.0                     1.0   \n",
              "\n",
              "   reduced_outside_home_cont  avoid_touch_face  chronic_medic_condition  ...  \\\n",
              "0                        1.0               1.0                      0.0  ...   \n",
              "1                        1.0               1.0                      0.0  ...   \n",
              "2                        0.0               0.0                      1.0  ...   \n",
              "3                        0.0               0.0                      1.0  ...   \n",
              "4                        0.0               1.0                      0.0  ...   \n",
              "\n",
              "   sick_from_seas_vacc  no_of_adults  no_of_children    age_bracket  \\\n",
              "0                  2.0           0.0             0.0  55 - 64 Years   \n",
              "1                  4.0           0.0             0.0  35 - 44 Years   \n",
              "2                  2.0           2.0             0.0  18 - 34 Years   \n",
              "3                  1.0           0.0             0.0      65+ Years   \n",
              "4                  4.0           1.0             0.0  45 - 54 Years   \n",
              "\n",
              "      qualification   race     sex  marital_status          employment  \\\n",
              "0        < 12 Years  White  Female     Not Married  Not in Labor Force   \n",
              "1          12 Years  White    Male     Not Married            Employed   \n",
              "2  College Graduate  White    Male     Not Married            Employed   \n",
              "3          12 Years  White  Female     Not Married  Not in Labor Force   \n",
              "4      Some College  White  Female         Married            Employed   \n",
              "\n",
              "                 census_msa  \n",
              "0                   Non-MSA  \n",
              "1  MSA, Not Principle  City  \n",
              "2  MSA, Not Principle  City  \n",
              "3       MSA, Principle City  \n",
              "4  MSA, Not Principle  City  \n",
              "\n",
              "[5 rows x 27 columns]"
            ]
          },
          "execution_count": 49,
          "metadata": {},
          "output_type": "execute_result"
        }
      ],
      "source": [
        "data.head()"
      ]
    },
    {
      "cell_type": "code",
      "execution_count": null,
      "id": "264aac8a",
      "metadata": {
        "id": "264aac8a"
      },
      "outputs": [],
      "source": [
        "data=data.join(df[\"h1n1_vaccine\"])"
      ]
    },
    {
      "cell_type": "code",
      "execution_count": null,
      "id": "a2aa5907",
      "metadata": {
        "id": "a2aa5907",
        "outputId": "c334f351-8ec1-40e1-e908-c631bfad1628"
      },
      "outputs": [
        {
          "data": {
            "text/html": [
              "<div>\n",
              "<style scoped>\n",
              "    .dataframe tbody tr th:only-of-type {\n",
              "        vertical-align: middle;\n",
              "    }\n",
              "\n",
              "    .dataframe tbody tr th {\n",
              "        vertical-align: top;\n",
              "    }\n",
              "\n",
              "    .dataframe thead th {\n",
              "        text-align: right;\n",
              "    }\n",
              "</style>\n",
              "<table border=\"1\" class=\"dataframe\">\n",
              "  <thead>\n",
              "    <tr style=\"text-align: right;\">\n",
              "      <th></th>\n",
              "      <th>h1n1_worry</th>\n",
              "      <th>h1n1_awareness</th>\n",
              "      <th>antiviral_medication</th>\n",
              "      <th>contact_avoidance</th>\n",
              "      <th>bought_face_mask</th>\n",
              "      <th>wash_hands_frequently</th>\n",
              "      <th>avoid_large_gatherings</th>\n",
              "      <th>reduced_outside_home_cont</th>\n",
              "      <th>avoid_touch_face</th>\n",
              "      <th>chronic_medic_condition</th>\n",
              "      <th>...</th>\n",
              "      <th>no_of_adults</th>\n",
              "      <th>no_of_children</th>\n",
              "      <th>age_bracket</th>\n",
              "      <th>qualification</th>\n",
              "      <th>race</th>\n",
              "      <th>sex</th>\n",
              "      <th>marital_status</th>\n",
              "      <th>employment</th>\n",
              "      <th>census_msa</th>\n",
              "      <th>h1n1_vaccine</th>\n",
              "    </tr>\n",
              "  </thead>\n",
              "  <tbody>\n",
              "    <tr>\n",
              "      <th>0</th>\n",
              "      <td>1.0</td>\n",
              "      <td>0.0</td>\n",
              "      <td>0.0</td>\n",
              "      <td>0.0</td>\n",
              "      <td>0.0</td>\n",
              "      <td>0.0</td>\n",
              "      <td>0.0</td>\n",
              "      <td>1.0</td>\n",
              "      <td>1.0</td>\n",
              "      <td>0.0</td>\n",
              "      <td>...</td>\n",
              "      <td>0.0</td>\n",
              "      <td>0.0</td>\n",
              "      <td>55 - 64 Years</td>\n",
              "      <td>&lt; 12 Years</td>\n",
              "      <td>White</td>\n",
              "      <td>Female</td>\n",
              "      <td>Not Married</td>\n",
              "      <td>Not in Labor Force</td>\n",
              "      <td>Non-MSA</td>\n",
              "      <td>0</td>\n",
              "    </tr>\n",
              "    <tr>\n",
              "      <th>1</th>\n",
              "      <td>3.0</td>\n",
              "      <td>2.0</td>\n",
              "      <td>0.0</td>\n",
              "      <td>1.0</td>\n",
              "      <td>0.0</td>\n",
              "      <td>1.0</td>\n",
              "      <td>0.0</td>\n",
              "      <td>1.0</td>\n",
              "      <td>1.0</td>\n",
              "      <td>0.0</td>\n",
              "      <td>...</td>\n",
              "      <td>0.0</td>\n",
              "      <td>0.0</td>\n",
              "      <td>35 - 44 Years</td>\n",
              "      <td>12 Years</td>\n",
              "      <td>White</td>\n",
              "      <td>Male</td>\n",
              "      <td>Not Married</td>\n",
              "      <td>Employed</td>\n",
              "      <td>MSA, Not Principle  City</td>\n",
              "      <td>0</td>\n",
              "    </tr>\n",
              "    <tr>\n",
              "      <th>2</th>\n",
              "      <td>1.0</td>\n",
              "      <td>1.0</td>\n",
              "      <td>0.0</td>\n",
              "      <td>1.0</td>\n",
              "      <td>0.0</td>\n",
              "      <td>0.0</td>\n",
              "      <td>0.0</td>\n",
              "      <td>0.0</td>\n",
              "      <td>0.0</td>\n",
              "      <td>1.0</td>\n",
              "      <td>...</td>\n",
              "      <td>2.0</td>\n",
              "      <td>0.0</td>\n",
              "      <td>18 - 34 Years</td>\n",
              "      <td>College Graduate</td>\n",
              "      <td>White</td>\n",
              "      <td>Male</td>\n",
              "      <td>Not Married</td>\n",
              "      <td>Employed</td>\n",
              "      <td>MSA, Not Principle  City</td>\n",
              "      <td>0</td>\n",
              "    </tr>\n",
              "    <tr>\n",
              "      <th>3</th>\n",
              "      <td>1.0</td>\n",
              "      <td>1.0</td>\n",
              "      <td>0.0</td>\n",
              "      <td>1.0</td>\n",
              "      <td>0.0</td>\n",
              "      <td>1.0</td>\n",
              "      <td>1.0</td>\n",
              "      <td>0.0</td>\n",
              "      <td>0.0</td>\n",
              "      <td>1.0</td>\n",
              "      <td>...</td>\n",
              "      <td>0.0</td>\n",
              "      <td>0.0</td>\n",
              "      <td>65+ Years</td>\n",
              "      <td>12 Years</td>\n",
              "      <td>White</td>\n",
              "      <td>Female</td>\n",
              "      <td>Not Married</td>\n",
              "      <td>Not in Labor Force</td>\n",
              "      <td>MSA, Principle City</td>\n",
              "      <td>0</td>\n",
              "    </tr>\n",
              "    <tr>\n",
              "      <th>4</th>\n",
              "      <td>2.0</td>\n",
              "      <td>1.0</td>\n",
              "      <td>0.0</td>\n",
              "      <td>1.0</td>\n",
              "      <td>0.0</td>\n",
              "      <td>1.0</td>\n",
              "      <td>1.0</td>\n",
              "      <td>0.0</td>\n",
              "      <td>1.0</td>\n",
              "      <td>0.0</td>\n",
              "      <td>...</td>\n",
              "      <td>1.0</td>\n",
              "      <td>0.0</td>\n",
              "      <td>45 - 54 Years</td>\n",
              "      <td>Some College</td>\n",
              "      <td>White</td>\n",
              "      <td>Female</td>\n",
              "      <td>Married</td>\n",
              "      <td>Employed</td>\n",
              "      <td>MSA, Not Principle  City</td>\n",
              "      <td>0</td>\n",
              "    </tr>\n",
              "  </tbody>\n",
              "</table>\n",
              "<p>5 rows × 28 columns</p>\n",
              "</div>"
            ],
            "text/plain": [
              "   h1n1_worry  h1n1_awareness  antiviral_medication  contact_avoidance  \\\n",
              "0         1.0             0.0                   0.0                0.0   \n",
              "1         3.0             2.0                   0.0                1.0   \n",
              "2         1.0             1.0                   0.0                1.0   \n",
              "3         1.0             1.0                   0.0                1.0   \n",
              "4         2.0             1.0                   0.0                1.0   \n",
              "\n",
              "   bought_face_mask  wash_hands_frequently  avoid_large_gatherings  \\\n",
              "0               0.0                    0.0                     0.0   \n",
              "1               0.0                    1.0                     0.0   \n",
              "2               0.0                    0.0                     0.0   \n",
              "3               0.0                    1.0                     1.0   \n",
              "4               0.0                    1.0                     1.0   \n",
              "\n",
              "   reduced_outside_home_cont  avoid_touch_face  chronic_medic_condition  ...  \\\n",
              "0                        1.0               1.0                      0.0  ...   \n",
              "1                        1.0               1.0                      0.0  ...   \n",
              "2                        0.0               0.0                      1.0  ...   \n",
              "3                        0.0               0.0                      1.0  ...   \n",
              "4                        0.0               1.0                      0.0  ...   \n",
              "\n",
              "   no_of_adults  no_of_children    age_bracket     qualification   race  \\\n",
              "0           0.0             0.0  55 - 64 Years        < 12 Years  White   \n",
              "1           0.0             0.0  35 - 44 Years          12 Years  White   \n",
              "2           2.0             0.0  18 - 34 Years  College Graduate  White   \n",
              "3           0.0             0.0      65+ Years          12 Years  White   \n",
              "4           1.0             0.0  45 - 54 Years      Some College  White   \n",
              "\n",
              "      sex  marital_status          employment                census_msa  \\\n",
              "0  Female     Not Married  Not in Labor Force                   Non-MSA   \n",
              "1    Male     Not Married            Employed  MSA, Not Principle  City   \n",
              "2    Male     Not Married            Employed  MSA, Not Principle  City   \n",
              "3  Female     Not Married  Not in Labor Force       MSA, Principle City   \n",
              "4  Female         Married            Employed  MSA, Not Principle  City   \n",
              "\n",
              "   h1n1_vaccine  \n",
              "0             0  \n",
              "1             0  \n",
              "2             0  \n",
              "3             0  \n",
              "4             0  \n",
              "\n",
              "[5 rows x 28 columns]"
            ]
          },
          "execution_count": 51,
          "metadata": {},
          "output_type": "execute_result"
        }
      ],
      "source": [
        "data.head()"
      ]
    },
    {
      "cell_type": "code",
      "execution_count": null,
      "id": "74d4b86b",
      "metadata": {
        "scrolled": false,
        "id": "74d4b86b",
        "outputId": "8e0bc3fb-078c-4383-d9c8-e4c6a352b31f"
      },
      "outputs": [
        {
          "name": "stdout",
          "output_type": "stream",
          "text": [
            "<class 'pandas.core.frame.DataFrame'>\n",
            "RangeIndex: 26707 entries, 0 to 26706\n",
            "Data columns (total 28 columns):\n",
            " #   Column                     Non-Null Count  Dtype  \n",
            "---  ------                     --------------  -----  \n",
            " 0   h1n1_worry                 26707 non-null  float64\n",
            " 1   h1n1_awareness             26707 non-null  float64\n",
            " 2   antiviral_medication       26707 non-null  float64\n",
            " 3   contact_avoidance          26707 non-null  float64\n",
            " 4   bought_face_mask           26707 non-null  float64\n",
            " 5   wash_hands_frequently      26707 non-null  float64\n",
            " 6   avoid_large_gatherings     26707 non-null  float64\n",
            " 7   reduced_outside_home_cont  26707 non-null  float64\n",
            " 8   avoid_touch_face           26707 non-null  float64\n",
            " 9   chronic_medic_condition    26707 non-null  float64\n",
            " 10  cont_child_undr_6_mnths    26707 non-null  float64\n",
            " 11  is_health_worker           26707 non-null  float64\n",
            " 12  is_h1n1_vacc_effective     26707 non-null  float64\n",
            " 13  is_h1n1_risky              26707 non-null  float64\n",
            " 14  sick_from_h1n1_vacc        26707 non-null  float64\n",
            " 15  is_seas_vacc_effective     26707 non-null  float64\n",
            " 16  is_seas_risky              26707 non-null  float64\n",
            " 17  sick_from_seas_vacc        26707 non-null  float64\n",
            " 18  no_of_adults               26707 non-null  float64\n",
            " 19  no_of_children             26707 non-null  float64\n",
            " 20  age_bracket                26707 non-null  object \n",
            " 21  qualification              26707 non-null  object \n",
            " 22  race                       26707 non-null  object \n",
            " 23  sex                        26707 non-null  object \n",
            " 24  marital_status             26707 non-null  object \n",
            " 25  employment                 26707 non-null  object \n",
            " 26  census_msa                 26707 non-null  object \n",
            " 27  h1n1_vaccine               26707 non-null  int64  \n",
            "dtypes: float64(20), int64(1), object(7)\n",
            "memory usage: 5.7+ MB\n"
          ]
        }
      ],
      "source": [
        "data.info()"
      ]
    },
    {
      "cell_type": "code",
      "execution_count": null,
      "id": "3f4cb64f",
      "metadata": {
        "id": "3f4cb64f"
      },
      "outputs": [],
      "source": [
        "data=pd.get_dummies(data,drop_first=True)"
      ]
    },
    {
      "cell_type": "code",
      "execution_count": null,
      "id": "ec7f94fc",
      "metadata": {
        "scrolled": true,
        "id": "ec7f94fc",
        "outputId": "0bfdd32c-fa8a-48d1-b137-3cce47298081"
      },
      "outputs": [
        {
          "data": {
            "text/html": [
              "<div>\n",
              "<style scoped>\n",
              "    .dataframe tbody tr th:only-of-type {\n",
              "        vertical-align: middle;\n",
              "    }\n",
              "\n",
              "    .dataframe tbody tr th {\n",
              "        vertical-align: top;\n",
              "    }\n",
              "\n",
              "    .dataframe thead th {\n",
              "        text-align: right;\n",
              "    }\n",
              "</style>\n",
              "<table border=\"1\" class=\"dataframe\">\n",
              "  <thead>\n",
              "    <tr style=\"text-align: right;\">\n",
              "      <th></th>\n",
              "      <th>h1n1_worry</th>\n",
              "      <th>h1n1_awareness</th>\n",
              "      <th>antiviral_medication</th>\n",
              "      <th>contact_avoidance</th>\n",
              "      <th>bought_face_mask</th>\n",
              "      <th>wash_hands_frequently</th>\n",
              "      <th>avoid_large_gatherings</th>\n",
              "      <th>reduced_outside_home_cont</th>\n",
              "      <th>avoid_touch_face</th>\n",
              "      <th>chronic_medic_condition</th>\n",
              "      <th>...</th>\n",
              "      <th>qualification_College Graduate</th>\n",
              "      <th>qualification_Some College</th>\n",
              "      <th>race_White</th>\n",
              "      <th>race_others</th>\n",
              "      <th>sex_Male</th>\n",
              "      <th>marital_status_Not Married</th>\n",
              "      <th>employment_Not in Labor Force</th>\n",
              "      <th>employment_Unemployed</th>\n",
              "      <th>census_msa_MSA, Principle City</th>\n",
              "      <th>census_msa_Non-MSA</th>\n",
              "    </tr>\n",
              "  </thead>\n",
              "  <tbody>\n",
              "    <tr>\n",
              "      <th>0</th>\n",
              "      <td>1.0</td>\n",
              "      <td>0.0</td>\n",
              "      <td>0.0</td>\n",
              "      <td>0.0</td>\n",
              "      <td>0.0</td>\n",
              "      <td>0.0</td>\n",
              "      <td>0.0</td>\n",
              "      <td>1.0</td>\n",
              "      <td>1.0</td>\n",
              "      <td>0.0</td>\n",
              "      <td>...</td>\n",
              "      <td>0</td>\n",
              "      <td>0</td>\n",
              "      <td>1</td>\n",
              "      <td>0</td>\n",
              "      <td>0</td>\n",
              "      <td>1</td>\n",
              "      <td>1</td>\n",
              "      <td>0</td>\n",
              "      <td>0</td>\n",
              "      <td>1</td>\n",
              "    </tr>\n",
              "    <tr>\n",
              "      <th>1</th>\n",
              "      <td>3.0</td>\n",
              "      <td>2.0</td>\n",
              "      <td>0.0</td>\n",
              "      <td>1.0</td>\n",
              "      <td>0.0</td>\n",
              "      <td>1.0</td>\n",
              "      <td>0.0</td>\n",
              "      <td>1.0</td>\n",
              "      <td>1.0</td>\n",
              "      <td>0.0</td>\n",
              "      <td>...</td>\n",
              "      <td>0</td>\n",
              "      <td>0</td>\n",
              "      <td>1</td>\n",
              "      <td>0</td>\n",
              "      <td>1</td>\n",
              "      <td>1</td>\n",
              "      <td>0</td>\n",
              "      <td>0</td>\n",
              "      <td>0</td>\n",
              "      <td>0</td>\n",
              "    </tr>\n",
              "    <tr>\n",
              "      <th>2</th>\n",
              "      <td>1.0</td>\n",
              "      <td>1.0</td>\n",
              "      <td>0.0</td>\n",
              "      <td>1.0</td>\n",
              "      <td>0.0</td>\n",
              "      <td>0.0</td>\n",
              "      <td>0.0</td>\n",
              "      <td>0.0</td>\n",
              "      <td>0.0</td>\n",
              "      <td>1.0</td>\n",
              "      <td>...</td>\n",
              "      <td>1</td>\n",
              "      <td>0</td>\n",
              "      <td>1</td>\n",
              "      <td>0</td>\n",
              "      <td>1</td>\n",
              "      <td>1</td>\n",
              "      <td>0</td>\n",
              "      <td>0</td>\n",
              "      <td>0</td>\n",
              "      <td>0</td>\n",
              "    </tr>\n",
              "    <tr>\n",
              "      <th>3</th>\n",
              "      <td>1.0</td>\n",
              "      <td>1.0</td>\n",
              "      <td>0.0</td>\n",
              "      <td>1.0</td>\n",
              "      <td>0.0</td>\n",
              "      <td>1.0</td>\n",
              "      <td>1.0</td>\n",
              "      <td>0.0</td>\n",
              "      <td>0.0</td>\n",
              "      <td>1.0</td>\n",
              "      <td>...</td>\n",
              "      <td>0</td>\n",
              "      <td>0</td>\n",
              "      <td>1</td>\n",
              "      <td>0</td>\n",
              "      <td>0</td>\n",
              "      <td>1</td>\n",
              "      <td>1</td>\n",
              "      <td>0</td>\n",
              "      <td>1</td>\n",
              "      <td>0</td>\n",
              "    </tr>\n",
              "    <tr>\n",
              "      <th>4</th>\n",
              "      <td>2.0</td>\n",
              "      <td>1.0</td>\n",
              "      <td>0.0</td>\n",
              "      <td>1.0</td>\n",
              "      <td>0.0</td>\n",
              "      <td>1.0</td>\n",
              "      <td>1.0</td>\n",
              "      <td>0.0</td>\n",
              "      <td>1.0</td>\n",
              "      <td>0.0</td>\n",
              "      <td>...</td>\n",
              "      <td>0</td>\n",
              "      <td>1</td>\n",
              "      <td>1</td>\n",
              "      <td>0</td>\n",
              "      <td>0</td>\n",
              "      <td>0</td>\n",
              "      <td>0</td>\n",
              "      <td>0</td>\n",
              "      <td>0</td>\n",
              "      <td>0</td>\n",
              "    </tr>\n",
              "  </tbody>\n",
              "</table>\n",
              "<p>5 rows × 36 columns</p>\n",
              "</div>"
            ],
            "text/plain": [
              "   h1n1_worry  h1n1_awareness  antiviral_medication  contact_avoidance  \\\n",
              "0         1.0             0.0                   0.0                0.0   \n",
              "1         3.0             2.0                   0.0                1.0   \n",
              "2         1.0             1.0                   0.0                1.0   \n",
              "3         1.0             1.0                   0.0                1.0   \n",
              "4         2.0             1.0                   0.0                1.0   \n",
              "\n",
              "   bought_face_mask  wash_hands_frequently  avoid_large_gatherings  \\\n",
              "0               0.0                    0.0                     0.0   \n",
              "1               0.0                    1.0                     0.0   \n",
              "2               0.0                    0.0                     0.0   \n",
              "3               0.0                    1.0                     1.0   \n",
              "4               0.0                    1.0                     1.0   \n",
              "\n",
              "   reduced_outside_home_cont  avoid_touch_face  chronic_medic_condition  ...  \\\n",
              "0                        1.0               1.0                      0.0  ...   \n",
              "1                        1.0               1.0                      0.0  ...   \n",
              "2                        0.0               0.0                      1.0  ...   \n",
              "3                        0.0               0.0                      1.0  ...   \n",
              "4                        0.0               1.0                      0.0  ...   \n",
              "\n",
              "   qualification_College Graduate  qualification_Some College  race_White  \\\n",
              "0                               0                           0           1   \n",
              "1                               0                           0           1   \n",
              "2                               1                           0           1   \n",
              "3                               0                           0           1   \n",
              "4                               0                           1           1   \n",
              "\n",
              "   race_others  sex_Male  marital_status_Not Married  \\\n",
              "0            0         0                           1   \n",
              "1            0         1                           1   \n",
              "2            0         1                           1   \n",
              "3            0         0                           1   \n",
              "4            0         0                           0   \n",
              "\n",
              "   employment_Not in Labor Force  employment_Unemployed  \\\n",
              "0                              1                      0   \n",
              "1                              0                      0   \n",
              "2                              0                      0   \n",
              "3                              1                      0   \n",
              "4                              0                      0   \n",
              "\n",
              "   census_msa_MSA, Principle City  census_msa_Non-MSA  \n",
              "0                               0                   1  \n",
              "1                               0                   0  \n",
              "2                               0                   0  \n",
              "3                               1                   0  \n",
              "4                               0                   0  \n",
              "\n",
              "[5 rows x 36 columns]"
            ]
          },
          "execution_count": 54,
          "metadata": {},
          "output_type": "execute_result"
        }
      ],
      "source": [
        "data.head()"
      ]
    },
    {
      "cell_type": "code",
      "execution_count": null,
      "id": "79a184f7",
      "metadata": {
        "id": "79a184f7",
        "outputId": "0ccfca51-292e-4a3e-d278-cbbf7d7d8e64"
      },
      "outputs": [
        {
          "data": {
            "text/plain": [
              "h1n1_worry                        0.0\n",
              "h1n1_awareness                    0.0\n",
              "antiviral_medication              0.0\n",
              "contact_avoidance                 0.0\n",
              "bought_face_mask                  0.0\n",
              "wash_hands_frequently             0.0\n",
              "avoid_large_gatherings            0.0\n",
              "reduced_outside_home_cont         0.0\n",
              "avoid_touch_face                  0.0\n",
              "chronic_medic_condition           0.0\n",
              "cont_child_undr_6_mnths           0.0\n",
              "is_health_worker                  0.0\n",
              "is_h1n1_vacc_effective            0.0\n",
              "is_h1n1_risky                     0.0\n",
              "sick_from_h1n1_vacc               0.0\n",
              "is_seas_vacc_effective            0.0\n",
              "is_seas_risky                     0.0\n",
              "sick_from_seas_vacc               0.0\n",
              "no_of_adults                      0.0\n",
              "no_of_children                    0.0\n",
              "h1n1_vaccine                      0.0\n",
              "age_bracket_35 - 44 Years         0.0\n",
              "age_bracket_45 - 54 Years         0.0\n",
              "age_bracket_55 - 64 Years         0.0\n",
              "age_bracket_65+ Years             0.0\n",
              "qualification_< 12 Years          0.0\n",
              "qualification_College Graduate    0.0\n",
              "qualification_Some College        0.0\n",
              "race_White                        0.0\n",
              "race_others                       0.0\n",
              "sex_Male                          0.0\n",
              "marital_status_Not Married        0.0\n",
              "employment_Not in Labor Force     0.0\n",
              "employment_Unemployed             0.0\n",
              "census_msa_MSA, Principle City    0.0\n",
              "census_msa_Non-MSA                0.0\n",
              "dtype: float64"
            ]
          },
          "execution_count": 55,
          "metadata": {},
          "output_type": "execute_result"
        }
      ],
      "source": [
        "data.isnull().sum()*100/len(data)"
      ]
    },
    {
      "cell_type": "code",
      "execution_count": null,
      "id": "218d53b6",
      "metadata": {
        "id": "218d53b6"
      },
      "outputs": [],
      "source": [
        "x=data.drop([\"h1n1_vaccine\"],axis=1)\n",
        "y=data[\"h1n1_vaccine\"]"
      ]
    },
    {
      "cell_type": "code",
      "execution_count": null,
      "id": "d5f4eefe",
      "metadata": {
        "id": "d5f4eefe"
      },
      "outputs": [],
      "source": [
        "from sklearn.model_selection import train_test_split\n",
        "from sklearn.linear_model import SGDClassifier\n",
        "from sklearn.datasets import make_classification\n",
        "from sklearn.metrics import confusion_matrix\n",
        "from sklearn.metrics import classification_report"
      ]
    },
    {
      "cell_type": "code",
      "execution_count": null,
      "id": "f2f29d19",
      "metadata": {
        "id": "f2f29d19"
      },
      "outputs": [],
      "source": [
        "x_train, x_test, y_train, y_test = train_test_split(x, y, test_size = 0.2,random_state=2)"
      ]
    },
    {
      "cell_type": "code",
      "execution_count": null,
      "id": "891a91dc",
      "metadata": {
        "id": "891a91dc"
      },
      "outputs": [],
      "source": [
        "sgdc = SGDClassifier()"
      ]
    },
    {
      "cell_type": "code",
      "execution_count": null,
      "id": "acc3f58d",
      "metadata": {
        "scrolled": true,
        "id": "acc3f58d",
        "outputId": "46842686-2af9-46b0-de3f-362537f56fe9"
      },
      "outputs": [
        {
          "data": {
            "text/html": [
              "<style>#sk-container-id-1 {color: black;background-color: white;}#sk-container-id-1 pre{padding: 0;}#sk-container-id-1 div.sk-toggleable {background-color: white;}#sk-container-id-1 label.sk-toggleable__label {cursor: pointer;display: block;width: 100%;margin-bottom: 0;padding: 0.3em;box-sizing: border-box;text-align: center;}#sk-container-id-1 label.sk-toggleable__label-arrow:before {content: \"▸\";float: left;margin-right: 0.25em;color: #696969;}#sk-container-id-1 label.sk-toggleable__label-arrow:hover:before {color: black;}#sk-container-id-1 div.sk-estimator:hover label.sk-toggleable__label-arrow:before {color: black;}#sk-container-id-1 div.sk-toggleable__content {max-height: 0;max-width: 0;overflow: hidden;text-align: left;background-color: #f0f8ff;}#sk-container-id-1 div.sk-toggleable__content pre {margin: 0.2em;color: black;border-radius: 0.25em;background-color: #f0f8ff;}#sk-container-id-1 input.sk-toggleable__control:checked~div.sk-toggleable__content {max-height: 200px;max-width: 100%;overflow: auto;}#sk-container-id-1 input.sk-toggleable__control:checked~label.sk-toggleable__label-arrow:before {content: \"▾\";}#sk-container-id-1 div.sk-estimator input.sk-toggleable__control:checked~label.sk-toggleable__label {background-color: #d4ebff;}#sk-container-id-1 div.sk-label input.sk-toggleable__control:checked~label.sk-toggleable__label {background-color: #d4ebff;}#sk-container-id-1 input.sk-hidden--visually {border: 0;clip: rect(1px 1px 1px 1px);clip: rect(1px, 1px, 1px, 1px);height: 1px;margin: -1px;overflow: hidden;padding: 0;position: absolute;width: 1px;}#sk-container-id-1 div.sk-estimator {font-family: monospace;background-color: #f0f8ff;border: 1px dotted black;border-radius: 0.25em;box-sizing: border-box;margin-bottom: 0.5em;}#sk-container-id-1 div.sk-estimator:hover {background-color: #d4ebff;}#sk-container-id-1 div.sk-parallel-item::after {content: \"\";width: 100%;border-bottom: 1px solid gray;flex-grow: 1;}#sk-container-id-1 div.sk-label:hover label.sk-toggleable__label {background-color: #d4ebff;}#sk-container-id-1 div.sk-serial::before {content: \"\";position: absolute;border-left: 1px solid gray;box-sizing: border-box;top: 0;bottom: 0;left: 50%;z-index: 0;}#sk-container-id-1 div.sk-serial {display: flex;flex-direction: column;align-items: center;background-color: white;padding-right: 0.2em;padding-left: 0.2em;position: relative;}#sk-container-id-1 div.sk-item {position: relative;z-index: 1;}#sk-container-id-1 div.sk-parallel {display: flex;align-items: stretch;justify-content: center;background-color: white;position: relative;}#sk-container-id-1 div.sk-item::before, #sk-container-id-1 div.sk-parallel-item::before {content: \"\";position: absolute;border-left: 1px solid gray;box-sizing: border-box;top: 0;bottom: 0;left: 50%;z-index: -1;}#sk-container-id-1 div.sk-parallel-item {display: flex;flex-direction: column;z-index: 1;position: relative;background-color: white;}#sk-container-id-1 div.sk-parallel-item:first-child::after {align-self: flex-end;width: 50%;}#sk-container-id-1 div.sk-parallel-item:last-child::after {align-self: flex-start;width: 50%;}#sk-container-id-1 div.sk-parallel-item:only-child::after {width: 0;}#sk-container-id-1 div.sk-dashed-wrapped {border: 1px dashed gray;margin: 0 0.4em 0.5em 0.4em;box-sizing: border-box;padding-bottom: 0.4em;background-color: white;}#sk-container-id-1 div.sk-label label {font-family: monospace;font-weight: bold;display: inline-block;line-height: 1.2em;}#sk-container-id-1 div.sk-label-container {text-align: center;}#sk-container-id-1 div.sk-container {/* jupyter's `normalize.less` sets `[hidden] { display: none; }` but bootstrap.min.css set `[hidden] { display: none !important; }` so we also need the `!important` here to be able to override the default hidden behavior on the sphinx rendered scikit-learn.org. See: https://github.com/scikit-learn/scikit-learn/issues/21755 */display: inline-block !important;position: relative;}#sk-container-id-1 div.sk-text-repr-fallback {display: none;}</style><div id=\"sk-container-id-1\" class=\"sk-top-container\"><div class=\"sk-text-repr-fallback\"><pre>SGDClassifier()</pre><b>In a Jupyter environment, please rerun this cell to show the HTML representation or trust the notebook. <br />On GitHub, the HTML representation is unable to render, please try loading this page with nbviewer.org.</b></div><div class=\"sk-container\" hidden><div class=\"sk-item\"><div class=\"sk-estimator sk-toggleable\"><input class=\"sk-toggleable__control sk-hidden--visually\" id=\"sk-estimator-id-1\" type=\"checkbox\" checked><label for=\"sk-estimator-id-1\" class=\"sk-toggleable__label sk-toggleable__label-arrow\">SGDClassifier</label><div class=\"sk-toggleable__content\"><pre>SGDClassifier()</pre></div></div></div></div></div>"
            ],
            "text/plain": [
              "SGDClassifier()"
            ]
          },
          "execution_count": 60,
          "metadata": {},
          "output_type": "execute_result"
        }
      ],
      "source": [
        "sgdc.fit(x_train, y_train)"
      ]
    },
    {
      "cell_type": "markdown",
      "id": "ede5739d",
      "metadata": {
        "id": "ede5739d"
      },
      "source": [
        "### After the training the classifier, we'll check the model accuracy score."
      ]
    },
    {
      "cell_type": "code",
      "execution_count": null,
      "id": "16d165e6",
      "metadata": {
        "id": "16d165e6",
        "outputId": "499e2826-6bc3-4b0d-8afe-59b0c8107a14"
      },
      "outputs": [
        {
          "name": "stdout",
          "output_type": "stream",
          "text": [
            "Training score:  0.8065059677041891\n"
          ]
        }
      ],
      "source": [
        "score = sgdc.score(x_train, y_train)\n",
        "print(\"Training score: \", score)"
      ]
    },
    {
      "cell_type": "markdown",
      "id": "43bb6375",
      "metadata": {
        "id": "43bb6375"
      },
      "source": [
        "### Predicting and accuracy check"
      ]
    },
    {
      "cell_type": "code",
      "execution_count": null,
      "id": "0cde41f5",
      "metadata": {
        "scrolled": true,
        "id": "0cde41f5",
        "outputId": "a68abe7f-02d5-4673-9101-ef1d55ce62f6"
      },
      "outputs": [
        {
          "name": "stdout",
          "output_type": "stream",
          "text": [
            "[[4129   49]\n",
            " [ 991  173]]\n"
          ]
        }
      ],
      "source": [
        "ypred = sgdc.predict(x_test)\n",
        "\n",
        "cm = confusion_matrix(y_test, ypred)\n",
        "print(cm)"
      ]
    },
    {
      "cell_type": "markdown",
      "id": "444fc336",
      "metadata": {
        "id": "444fc336"
      },
      "source": [
        "### classification report on test dataset"
      ]
    },
    {
      "cell_type": "code",
      "execution_count": null,
      "id": "22aa173a",
      "metadata": {
        "id": "22aa173a",
        "outputId": "26126a72-f5b1-413f-c618-1fba7aad0f71"
      },
      "outputs": [
        {
          "name": "stdout",
          "output_type": "stream",
          "text": [
            "              precision    recall  f1-score   support\n",
            "\n",
            "           0       0.81      0.99      0.89      4178\n",
            "           1       0.78      0.15      0.25      1164\n",
            "\n",
            "    accuracy                           0.81      5342\n",
            "   macro avg       0.79      0.57      0.57      5342\n",
            "weighted avg       0.80      0.81      0.75      5342\n",
            "\n"
          ]
        }
      ],
      "source": [
        "print(classification_report(y_test, ypred))"
      ]
    }
  ],
  "metadata": {
    "kernelspec": {
      "display_name": "Python 3 (ipykernel)",
      "language": "python",
      "name": "python3"
    },
    "language_info": {
      "codemirror_mode": {
        "name": "ipython",
        "version": 3
      },
      "file_extension": ".py",
      "mimetype": "text/x-python",
      "name": "python",
      "nbconvert_exporter": "python",
      "pygments_lexer": "ipython3",
      "version": "3.9.7"
    },
    "colab": {
      "provenance": [],
      "include_colab_link": true
    }
  },
  "nbformat": 4,
  "nbformat_minor": 5
}